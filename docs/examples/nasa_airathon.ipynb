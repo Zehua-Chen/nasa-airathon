{
 "cells": [
  {
   "cell_type": "code",
   "execution_count": 17,
   "id": "d94b0656",
   "metadata": {},
   "outputs": [],
   "source": [
    "import pandas as pd\n",
    "import matplotlib.pyplot as plt\n",
    "from datetime import datetime\n",
    "from osgeo import gdal\n",
    "import numpy as np\n",
    "from keras.models import Sequential\n",
    "from keras.layers import Dense\n",
    "from keras.wrappers.scikit_learn import KerasRegressor\n",
    "from sklearn.model_selection import cross_val_score\n",
    "import dateutil.parser as parser"
   ]
  },
  {
   "cell_type": "code",
   "execution_count": 3,
   "id": "38ecf21c",
   "metadata": {},
   "outputs": [],
   "source": [
    "train_labels = pd.read_csv(\"dataset/metadata/train_labels.csv\")\n",
    "grid_metadata = pd.read_csv(\"dataset/metadata/grid_metadata.csv\") #use this to download data\n",
    "satellite_metadata = pd.read_csv(\"dataset/metadata/satellite_metadata.csv\")\n",
    "satellite_metadata['Date'] =  pd.to_datetime(satellite_metadata['time_end'], format='%Y-%m-%d')"
   ]
  },
  {
   "cell_type": "code",
   "execution_count": 4,
   "id": "febb7cdb",
   "metadata": {},
   "outputs": [
    {
     "data": {
      "text/plain": [
       "(34312, 3)"
      ]
     },
     "execution_count": 4,
     "metadata": {},
     "output_type": "execute_result"
    }
   ],
   "source": [
    "train_labels.shape"
   ]
  },
  {
   "cell_type": "code",
   "execution_count": 5,
   "id": "67db8dbf",
   "metadata": {},
   "outputs": [
    {
     "data": {
      "text/html": [
       "<div>\n",
       "<style scoped>\n",
       "    .dataframe tbody tr th:only-of-type {\n",
       "        vertical-align: middle;\n",
       "    }\n",
       "\n",
       "    .dataframe tbody tr th {\n",
       "        vertical-align: top;\n",
       "    }\n",
       "\n",
       "    .dataframe thead th {\n",
       "        text-align: right;\n",
       "    }\n",
       "</style>\n",
       "<table border=\"1\" class=\"dataframe\">\n",
       "  <thead>\n",
       "    <tr style=\"text-align: right;\">\n",
       "      <th></th>\n",
       "      <th>datetime</th>\n",
       "      <th>grid_id</th>\n",
       "      <th>value</th>\n",
       "    </tr>\n",
       "  </thead>\n",
       "  <tbody>\n",
       "    <tr>\n",
       "      <th>0</th>\n",
       "      <td>2018-02-01T08:00:00Z</td>\n",
       "      <td>3S31A</td>\n",
       "      <td>11.4</td>\n",
       "    </tr>\n",
       "    <tr>\n",
       "      <th>1</th>\n",
       "      <td>2018-02-01T08:00:00Z</td>\n",
       "      <td>A2FBI</td>\n",
       "      <td>17.0</td>\n",
       "    </tr>\n",
       "    <tr>\n",
       "      <th>2</th>\n",
       "      <td>2018-02-01T08:00:00Z</td>\n",
       "      <td>DJN0F</td>\n",
       "      <td>11.1</td>\n",
       "    </tr>\n",
       "    <tr>\n",
       "      <th>3</th>\n",
       "      <td>2018-02-01T08:00:00Z</td>\n",
       "      <td>E5P9N</td>\n",
       "      <td>22.1</td>\n",
       "    </tr>\n",
       "    <tr>\n",
       "      <th>4</th>\n",
       "      <td>2018-02-01T08:00:00Z</td>\n",
       "      <td>FRITQ</td>\n",
       "      <td>29.8</td>\n",
       "    </tr>\n",
       "  </tbody>\n",
       "</table>\n",
       "</div>"
      ],
      "text/plain": [
       "               datetime grid_id  value\n",
       "0  2018-02-01T08:00:00Z   3S31A   11.4\n",
       "1  2018-02-01T08:00:00Z   A2FBI   17.0\n",
       "2  2018-02-01T08:00:00Z   DJN0F   11.1\n",
       "3  2018-02-01T08:00:00Z   E5P9N   22.1\n",
       "4  2018-02-01T08:00:00Z   FRITQ   29.8"
      ]
     },
     "execution_count": 5,
     "metadata": {},
     "output_type": "execute_result"
    }
   ],
   "source": [
    "train_labels.head()"
   ]
  },
  {
   "cell_type": "markdown",
   "id": "c41a0ef9",
   "metadata": {},
   "source": [
    "grid_metadata: Metadata for each grid cell in the train and test sets."
   ]
  },
  {
   "cell_type": "code",
   "execution_count": 6,
   "id": "56ca6815",
   "metadata": {},
   "outputs": [
    {
     "data": {
      "text/plain": [
       "(54, 4)"
      ]
     },
     "execution_count": 6,
     "metadata": {},
     "output_type": "execute_result"
    }
   ],
   "source": [
    "grid_metadata.shape"
   ]
  },
  {
   "cell_type": "code",
   "execution_count": 7,
   "id": "601e52fe",
   "metadata": {},
   "outputs": [
    {
     "data": {
      "text/html": [
       "<div>\n",
       "<style scoped>\n",
       "    .dataframe tbody tr th:only-of-type {\n",
       "        vertical-align: middle;\n",
       "    }\n",
       "\n",
       "    .dataframe tbody tr th {\n",
       "        vertical-align: top;\n",
       "    }\n",
       "\n",
       "    .dataframe thead th {\n",
       "        text-align: right;\n",
       "    }\n",
       "</style>\n",
       "<table border=\"1\" class=\"dataframe\">\n",
       "  <thead>\n",
       "    <tr style=\"text-align: right;\">\n",
       "      <th></th>\n",
       "      <th>grid_id</th>\n",
       "      <th>location</th>\n",
       "      <th>tz</th>\n",
       "      <th>wkt</th>\n",
       "    </tr>\n",
       "  </thead>\n",
       "  <tbody>\n",
       "    <tr>\n",
       "      <th>0</th>\n",
       "      <td>1X116</td>\n",
       "      <td>Taipei</td>\n",
       "      <td>Asia/Taipei</td>\n",
       "      <td>POLYGON ((121.5257644471362 24.97766123020391,...</td>\n",
       "    </tr>\n",
       "    <tr>\n",
       "      <th>1</th>\n",
       "      <td>1Z2W7</td>\n",
       "      <td>Delhi</td>\n",
       "      <td>Asia/Calcutta</td>\n",
       "      <td>POLYGON ((77.30453178416276 28.54664454217707,...</td>\n",
       "    </tr>\n",
       "    <tr>\n",
       "      <th>2</th>\n",
       "      <td>3S31A</td>\n",
       "      <td>Los Angeles (SoCAB)</td>\n",
       "      <td>Etc/GMT+8</td>\n",
       "      <td>POLYGON ((-117.9338248256995 33.79558357488509...</td>\n",
       "    </tr>\n",
       "    <tr>\n",
       "      <th>3</th>\n",
       "      <td>6EIL6</td>\n",
       "      <td>Delhi</td>\n",
       "      <td>Asia/Calcutta</td>\n",
       "      <td>POLYGON ((77.07995296313287 28.54664454217707,...</td>\n",
       "    </tr>\n",
       "    <tr>\n",
       "      <th>4</th>\n",
       "      <td>7334C</td>\n",
       "      <td>Delhi</td>\n",
       "      <td>Asia/Calcutta</td>\n",
       "      <td>POLYGON ((77.12486872733885 28.54664454217707,...</td>\n",
       "    </tr>\n",
       "  </tbody>\n",
       "</table>\n",
       "</div>"
      ],
      "text/plain": [
       "  grid_id             location             tz  \\\n",
       "0   1X116               Taipei    Asia/Taipei   \n",
       "1   1Z2W7                Delhi  Asia/Calcutta   \n",
       "2   3S31A  Los Angeles (SoCAB)      Etc/GMT+8   \n",
       "3   6EIL6                Delhi  Asia/Calcutta   \n",
       "4   7334C                Delhi  Asia/Calcutta   \n",
       "\n",
       "                                                 wkt  \n",
       "0  POLYGON ((121.5257644471362 24.97766123020391,...  \n",
       "1  POLYGON ((77.30453178416276 28.54664454217707,...  \n",
       "2  POLYGON ((-117.9338248256995 33.79558357488509...  \n",
       "3  POLYGON ((77.07995296313287 28.54664454217707,...  \n",
       "4  POLYGON ((77.12486872733885 28.54664454217707,...  "
      ]
     },
     "execution_count": 7,
     "metadata": {},
     "output_type": "execute_result"
    }
   ],
   "source": [
    "grid_metadata.head()"
   ]
  },
  {
   "cell_type": "code",
   "execution_count": 8,
   "id": "8489fa00",
   "metadata": {},
   "outputs": [
    {
     "data": {
      "text/plain": [
       "array(['Taipei', 'Delhi', 'Los Angeles (SoCAB)'], dtype=object)"
      ]
     },
     "execution_count": 8,
     "metadata": {},
     "output_type": "execute_result"
    }
   ],
   "source": [
    "grid_metadata['location'].unique()"
   ]
  },
  {
   "cell_type": "markdown",
   "id": "840453f4",
   "metadata": {},
   "source": [
    "satellite_metadata: Metadata for each granule in the train and test sets, including file location in each public s3 bucket.\n",
    "\n",
    "Note that each file for a particular dataset is referred to as a `granule`. The metadata csv contains the following columns:\n",
    "\n",
    "    - `granule_id` (str): the filename for each granule\n",
    "    - `time_start` (datetime): the start time of the granule in YYYY-DD-MMTHH:mm:ss.sssZ\n",
    "    - `time_end` (datetime): the end time of the granule in YYYY-DD-MMTHH:mm:ss.sssZ\n",
    "    - `product` (str): concise name for satellite data source\n",
    "    - `location` (str): one of the three locations for this challenge\n",
    "    - `us_url` (str): file location of the granule in the public s3 bucket in the US East (N. Virginia) region\n",
    "    - `eu_url` (str): file location of the granule in the public s3 bucket in the Europe (Frankfurt) region\n",
    "    - `as_url` (str): file location of the granule in the public s3 bucket in the Asia Pacific (Singapore) region\n",
    "    - `cksum` (int): the result of running the unix cksum command on the granule\n",
    "    - `granule_size` (int): the filesize in bytes"
   ]
  },
  {
   "cell_type": "code",
   "execution_count": 9,
   "id": "e606a547",
   "metadata": {},
   "outputs": [
    {
     "data": {
      "text/plain": [
       "(7721, 12)"
      ]
     },
     "execution_count": 9,
     "metadata": {},
     "output_type": "execute_result"
    }
   ],
   "source": [
    "satellite_metadata.shape"
   ]
  },
  {
   "cell_type": "markdown",
   "id": "8bb84dab",
   "metadata": {},
   "source": [
    "dataset                 | n     (TOTAL:7721)\n",
    "    -------------------------------------------\n",
    "    \n",
    "\tpm25/train/maiac/       | 4260  | 35.1GB\n",
    "\tpm25/train/misr/        |  788  | 27.3GB\n",
    "\tpm25/test/maiac/        | 2444  | 20.3GB\n",
    "\tpm25/test/misr/         |  229  |  7.9GB\n"
   ]
  },
  {
   "cell_type": "code",
   "execution_count": 10,
   "id": "4ff626b5",
   "metadata": {},
   "outputs": [
    {
     "data": {
      "text/html": [
       "<div>\n",
       "<style scoped>\n",
       "    .dataframe tbody tr th:only-of-type {\n",
       "        vertical-align: middle;\n",
       "    }\n",
       "\n",
       "    .dataframe tbody tr th {\n",
       "        vertical-align: top;\n",
       "    }\n",
       "\n",
       "    .dataframe thead th {\n",
       "        text-align: right;\n",
       "    }\n",
       "</style>\n",
       "<table border=\"1\" class=\"dataframe\">\n",
       "  <thead>\n",
       "    <tr style=\"text-align: right;\">\n",
       "      <th></th>\n",
       "      <th>granule_id</th>\n",
       "      <th>time_start</th>\n",
       "      <th>time_end</th>\n",
       "      <th>product</th>\n",
       "      <th>location</th>\n",
       "      <th>split</th>\n",
       "      <th>us_url</th>\n",
       "      <th>eu_url</th>\n",
       "      <th>as_url</th>\n",
       "      <th>cksum</th>\n",
       "      <th>granule_size</th>\n",
       "      <th>Date</th>\n",
       "    </tr>\n",
       "  </thead>\n",
       "  <tbody>\n",
       "    <tr>\n",
       "      <th>0</th>\n",
       "      <td>20180201T191000_maiac_la_0.hdf</td>\n",
       "      <td>2018-02-01T17:25:00.000Z</td>\n",
       "      <td>2018-02-01 19:10:00+00:00</td>\n",
       "      <td>maiac</td>\n",
       "      <td>la</td>\n",
       "      <td>train</td>\n",
       "      <td>s3://drivendata-competition-airathon-public-us...</td>\n",
       "      <td>s3://drivendata-competition-airathon-public-eu...</td>\n",
       "      <td>s3://drivendata-competition-airathon-public-as...</td>\n",
       "      <td>911405771</td>\n",
       "      <td>10446736</td>\n",
       "      <td>2018-02-01 19:10:00+00:00</td>\n",
       "    </tr>\n",
       "    <tr>\n",
       "      <th>1</th>\n",
       "      <td>20180202T195000_maiac_la_0.hdf</td>\n",
       "      <td>2018-02-02T18:05:00.000Z</td>\n",
       "      <td>2018-02-02 19:50:00+00:00</td>\n",
       "      <td>maiac</td>\n",
       "      <td>la</td>\n",
       "      <td>train</td>\n",
       "      <td>s3://drivendata-competition-airathon-public-us...</td>\n",
       "      <td>s3://drivendata-competition-airathon-public-eu...</td>\n",
       "      <td>s3://drivendata-competition-airathon-public-as...</td>\n",
       "      <td>2244451908</td>\n",
       "      <td>11090180</td>\n",
       "      <td>2018-02-02 19:50:00+00:00</td>\n",
       "    </tr>\n",
       "    <tr>\n",
       "      <th>2</th>\n",
       "      <td>20180203T203000_maiac_la_0.hdf</td>\n",
       "      <td>2018-02-03T17:10:00.000Z</td>\n",
       "      <td>2018-02-03 20:30:00+00:00</td>\n",
       "      <td>maiac</td>\n",
       "      <td>la</td>\n",
       "      <td>train</td>\n",
       "      <td>s3://drivendata-competition-airathon-public-us...</td>\n",
       "      <td>s3://drivendata-competition-airathon-public-eu...</td>\n",
       "      <td>s3://drivendata-competition-airathon-public-as...</td>\n",
       "      <td>3799527997</td>\n",
       "      <td>12468482</td>\n",
       "      <td>2018-02-03 20:30:00+00:00</td>\n",
       "    </tr>\n",
       "    <tr>\n",
       "      <th>3</th>\n",
       "      <td>20180204T194000_maiac_la_0.hdf</td>\n",
       "      <td>2018-02-04T17:55:00.000Z</td>\n",
       "      <td>2018-02-04 19:40:00+00:00</td>\n",
       "      <td>maiac</td>\n",
       "      <td>la</td>\n",
       "      <td>train</td>\n",
       "      <td>s3://drivendata-competition-airathon-public-us...</td>\n",
       "      <td>s3://drivendata-competition-airathon-public-eu...</td>\n",
       "      <td>s3://drivendata-competition-airathon-public-as...</td>\n",
       "      <td>4105997844</td>\n",
       "      <td>13064424</td>\n",
       "      <td>2018-02-04 19:40:00+00:00</td>\n",
       "    </tr>\n",
       "    <tr>\n",
       "      <th>4</th>\n",
       "      <td>20180205T202000_maiac_la_0.hdf</td>\n",
       "      <td>2018-02-05T17:00:00.000Z</td>\n",
       "      <td>2018-02-05 20:20:00+00:00</td>\n",
       "      <td>maiac</td>\n",
       "      <td>la</td>\n",
       "      <td>train</td>\n",
       "      <td>s3://drivendata-competition-airathon-public-us...</td>\n",
       "      <td>s3://drivendata-competition-airathon-public-eu...</td>\n",
       "      <td>s3://drivendata-competition-airathon-public-as...</td>\n",
       "      <td>1805072340</td>\n",
       "      <td>12549313</td>\n",
       "      <td>2018-02-05 20:20:00+00:00</td>\n",
       "    </tr>\n",
       "  </tbody>\n",
       "</table>\n",
       "</div>"
      ],
      "text/plain": [
       "                       granule_id                time_start  \\\n",
       "0  20180201T191000_maiac_la_0.hdf  2018-02-01T17:25:00.000Z   \n",
       "1  20180202T195000_maiac_la_0.hdf  2018-02-02T18:05:00.000Z   \n",
       "2  20180203T203000_maiac_la_0.hdf  2018-02-03T17:10:00.000Z   \n",
       "3  20180204T194000_maiac_la_0.hdf  2018-02-04T17:55:00.000Z   \n",
       "4  20180205T202000_maiac_la_0.hdf  2018-02-05T17:00:00.000Z   \n",
       "\n",
       "                    time_end product location  split  \\\n",
       "0  2018-02-01 19:10:00+00:00   maiac       la  train   \n",
       "1  2018-02-02 19:50:00+00:00   maiac       la  train   \n",
       "2  2018-02-03 20:30:00+00:00   maiac       la  train   \n",
       "3  2018-02-04 19:40:00+00:00   maiac       la  train   \n",
       "4  2018-02-05 20:20:00+00:00   maiac       la  train   \n",
       "\n",
       "                                              us_url  \\\n",
       "0  s3://drivendata-competition-airathon-public-us...   \n",
       "1  s3://drivendata-competition-airathon-public-us...   \n",
       "2  s3://drivendata-competition-airathon-public-us...   \n",
       "3  s3://drivendata-competition-airathon-public-us...   \n",
       "4  s3://drivendata-competition-airathon-public-us...   \n",
       "\n",
       "                                              eu_url  \\\n",
       "0  s3://drivendata-competition-airathon-public-eu...   \n",
       "1  s3://drivendata-competition-airathon-public-eu...   \n",
       "2  s3://drivendata-competition-airathon-public-eu...   \n",
       "3  s3://drivendata-competition-airathon-public-eu...   \n",
       "4  s3://drivendata-competition-airathon-public-eu...   \n",
       "\n",
       "                                              as_url       cksum  \\\n",
       "0  s3://drivendata-competition-airathon-public-as...   911405771   \n",
       "1  s3://drivendata-competition-airathon-public-as...  2244451908   \n",
       "2  s3://drivendata-competition-airathon-public-as...  3799527997   \n",
       "3  s3://drivendata-competition-airathon-public-as...  4105997844   \n",
       "4  s3://drivendata-competition-airathon-public-as...  1805072340   \n",
       "\n",
       "   granule_size                      Date  \n",
       "0      10446736 2018-02-01 19:10:00+00:00  \n",
       "1      11090180 2018-02-02 19:50:00+00:00  \n",
       "2      12468482 2018-02-03 20:30:00+00:00  \n",
       "3      13064424 2018-02-04 19:40:00+00:00  \n",
       "4      12549313 2018-02-05 20:20:00+00:00  "
      ]
     },
     "execution_count": 10,
     "metadata": {},
     "output_type": "execute_result"
    }
   ],
   "source": [
    "satellite_metadata.head()"
   ]
  },
  {
   "cell_type": "code",
   "execution_count": 11,
   "id": "ec24bb3d",
   "metadata": {},
   "outputs": [],
   "source": [
    "####################\n",
    "# REMOVE THIS LINE #\n",
    "####################\n",
    "train_labels = train_labels.sample(2, random_state=42)"
   ]
  },
  {
   "cell_type": "code",
   "execution_count": 12,
   "id": "476f1c6b",
   "metadata": {},
   "outputs": [
    {
     "data": {
      "text/html": [
       "<div>\n",
       "<style scoped>\n",
       "    .dataframe tbody tr th:only-of-type {\n",
       "        vertical-align: middle;\n",
       "    }\n",
       "\n",
       "    .dataframe tbody tr th {\n",
       "        vertical-align: top;\n",
       "    }\n",
       "\n",
       "    .dataframe thead th {\n",
       "        text-align: right;\n",
       "    }\n",
       "</style>\n",
       "<table border=\"1\" class=\"dataframe\">\n",
       "  <thead>\n",
       "    <tr style=\"text-align: right;\">\n",
       "      <th></th>\n",
       "      <th>datetime</th>\n",
       "      <th>grid_id</th>\n",
       "      <th>value</th>\n",
       "    </tr>\n",
       "  </thead>\n",
       "  <tbody>\n",
       "    <tr>\n",
       "      <th>24050</th>\n",
       "      <td>2020-05-14T18:30:00Z</td>\n",
       "      <td>A7UCQ</td>\n",
       "      <td>52.333333</td>\n",
       "    </tr>\n",
       "    <tr>\n",
       "      <th>25046</th>\n",
       "      <td>2020-06-04T18:30:00Z</td>\n",
       "      <td>SZLMT</td>\n",
       "      <td>49.538462</td>\n",
       "    </tr>\n",
       "  </tbody>\n",
       "</table>\n",
       "</div>"
      ],
      "text/plain": [
       "                   datetime grid_id      value\n",
       "24050  2020-05-14T18:30:00Z   A7UCQ  52.333333\n",
       "25046  2020-06-04T18:30:00Z   SZLMT  49.538462"
      ]
     },
     "execution_count": 12,
     "metadata": {},
     "output_type": "execute_result"
    }
   ],
   "source": [
    "train_labels"
   ]
  },
  {
   "cell_type": "code",
   "execution_count": 13,
   "id": "7ceeb22c",
   "metadata": {},
   "outputs": [],
   "source": [
    "def get_grid_data(metadata, grid_id):\n",
    "    return metadata[metadata[\"grid_id\"] == grid_id]"
   ]
  },
  {
   "cell_type": "code",
   "execution_count": 14,
   "id": "6821e526",
   "metadata": {},
   "outputs": [],
   "source": [
    "def fetch_satellite_meta(metadata, datetime, location, datatype, split):\n",
    "    if location == \"Delhi\":\n",
    "        location = \"dl\"\n",
    "    elif location == \"Taipei\":\n",
    "        location = \"tpe\"\n",
    "    else:\n",
    "        location = \"la\"\n",
    "    \n",
    "    #filtering\n",
    "    metadata = metadata[metadata['location'] == location]\n",
    "    metadata = metadata[metadata['product'] == datatype]\n",
    "    metadata = metadata[metadata['split'] == split]\n",
    "    dateobject = parser.parse(datetime)\n",
    "    return metadata.loc[(metadata['Date'].dt.month == dateobject.month) & \n",
    "                        (metadata['Date'].dt.day == dateobject.day) &\n",
    "                        (metadata['Date'].dt.year <= dateobject.year)]"
   ]
  },
  {
   "cell_type": "code",
   "execution_count": 15,
   "id": "9212e33d",
   "metadata": {},
   "outputs": [],
   "source": [
    "# Opens the HDF file\n",
    "def load_data(FILEPATH):\n",
    "    ds = gdal.Open(FILEPATH)\n",
    "    return ds\n",
    "\n",
    "def fetch_subset(granule_id):\n",
    "    ds = load_data(\"dataset/\" + granule_id)\n",
    "    ds.GetSubDatasets()[0]\n",
    "    raster = gdal.Open(ds.GetSubDatasets()[8][0]) #grid5km:cosSZA features only\n",
    "    band = raster.GetRasterBand(1)\n",
    "    band_arr = band.ReadAsArray()\n",
    "    return band_arr"
   ]
  },
  {
   "cell_type": "code",
   "execution_count": 18,
   "id": "987c0351",
   "metadata": {},
   "outputs": [
    {
     "data": {
      "text/plain": [
       "<matplotlib.image.AxesImage at 0x16e2626a0>"
      ]
     },
     "execution_count": 18,
     "metadata": {},
     "output_type": "execute_result"
    },
    {
     "data": {
      "image/png": "[encoded data removed]",
      "text/plain": [
       "<Figure size 432x288 with 1 Axes>"
      ]
     },
     "metadata": {
      "needs_background": "light"
     },
     "output_type": "display_data"
    }
   ],
   "source": [
    "g_id = '20200604T070000_maiac_dl_0.hdf'\n",
    "arr = fetch_subset(g_id)\n",
    "plt.imshow(arr)"
   ]
  },
  {
   "cell_type": "code",
   "execution_count": 19,
   "id": "52aa4365",
   "metadata": {},
   "outputs": [],
   "source": [
    "def fetch_training_features(grid_id, datetime, split):\n",
    "    temp = get_grid_data(grid_metadata, grid_id)\n",
    "    sat_met = fetch_satellite_meta(satellite_metadata, \n",
    "                               datetime, \n",
    "                               temp.iloc[0]['location'], \n",
    "                               \"maiac\", # or 'misr'\n",
    "                               split)\n",
    "    counter = 0\n",
    "    features = None\n",
    "    for i in range(len(sat_met)):\n",
    "        counter+=1\n",
    "        granule_id = sat_met.iloc[i]['granule_id']\n",
    "        subset = fetch_subset(granule_id)\n",
    "        if features is None:\n",
    "            features = subset\n",
    "        else:\n",
    "            features+=subset\n",
    "#             print(counter, len(features))\n",
    "    return features/counter #average of same date across years?"
   ]
  },
  {
   "cell_type": "code",
   "execution_count": 20,
   "id": "6d270d1b",
   "metadata": {},
   "outputs": [],
   "source": [
    "def generate_features(train_labels, split):\n",
    "    labels = []\n",
    "    features = []\n",
    "    for i in range(len(train_labels)):\n",
    "        feature = fetch_training_features(train_labels.iloc[i]['grid_id'], train_labels.iloc[i]['datetime'], split)\n",
    "#         feature = np.array(feature).reshape(-1) #flatten to 57600 = 240*240\n",
    "        features.append(feature) \n",
    "        if split == \"train\": #only available for training\n",
    "            labels.append(train_labels.iloc[i]['value'])\n",
    "    return np.array(features), np.array(labels)"
   ]
  },
  {
   "cell_type": "code",
   "execution_count": 21,
   "id": "35c84da9",
   "metadata": {},
   "outputs": [
    {
     "data": {
      "text/plain": [
       "2"
      ]
     },
     "execution_count": 21,
     "metadata": {},
     "output_type": "execute_result"
    }
   ],
   "source": [
    "len(train_labels['grid_id'].unique())"
   ]
  },
  {
   "cell_type": "code",
   "execution_count": 22,
   "id": "e144d64d",
   "metadata": {},
   "outputs": [
    {
     "data": {
      "text/html": [
       "<div>\n",
       "<style scoped>\n",
       "    .dataframe tbody tr th:only-of-type {\n",
       "        vertical-align: middle;\n",
       "    }\n",
       "\n",
       "    .dataframe tbody tr th {\n",
       "        vertical-align: top;\n",
       "    }\n",
       "\n",
       "    .dataframe thead th {\n",
       "        text-align: right;\n",
       "    }\n",
       "</style>\n",
       "<table border=\"1\" class=\"dataframe\">\n",
       "  <thead>\n",
       "    <tr style=\"text-align: right;\">\n",
       "      <th></th>\n",
       "      <th>datetime</th>\n",
       "      <th>grid_id</th>\n",
       "      <th>value</th>\n",
       "    </tr>\n",
       "  </thead>\n",
       "  <tbody>\n",
       "    <tr>\n",
       "      <th>25046</th>\n",
       "      <td>2020-06-04T18:30:00Z</td>\n",
       "      <td>SZLMT</td>\n",
       "      <td>49.538462</td>\n",
       "    </tr>\n",
       "  </tbody>\n",
       "</table>\n",
       "</div>"
      ],
      "text/plain": [
       "                   datetime grid_id      value\n",
       "25046  2020-06-04T18:30:00Z   SZLMT  49.538462"
      ]
     },
     "execution_count": 22,
     "metadata": {},
     "output_type": "execute_result"
    }
   ],
   "source": [
    "train_labels_samples = train_labels[train_labels['datetime'].str.contains('2020-06-04')]\n",
    "delhi_grids = grid_metadata[grid_metadata['location']=='Delhi']['grid_id']\n",
    "train_labels_samples = train_labels_samples[train_labels_samples['grid_id'].isin(delhi_grids)]\n",
    "# train_labels_samples = train_labels_samples.iloc[0:4]\n",
    "train_labels_samples"
   ]
  },
  {
   "cell_type": "code",
   "execution_count": 23,
   "id": "986485fa",
   "metadata": {},
   "outputs": [
    {
     "data": {
      "text/html": [
       "<div>\n",
       "<style scoped>\n",
       "    .dataframe tbody tr th:only-of-type {\n",
       "        vertical-align: middle;\n",
       "    }\n",
       "\n",
       "    .dataframe tbody tr th {\n",
       "        vertical-align: top;\n",
       "    }\n",
       "\n",
       "    .dataframe thead th {\n",
       "        text-align: right;\n",
       "    }\n",
       "</style>\n",
       "<table border=\"1\" class=\"dataframe\">\n",
       "  <thead>\n",
       "    <tr style=\"text-align: right;\">\n",
       "      <th></th>\n",
       "      <th>granule_id</th>\n",
       "      <th>time_start</th>\n",
       "      <th>time_end</th>\n",
       "      <th>product</th>\n",
       "      <th>location</th>\n",
       "      <th>split</th>\n",
       "      <th>us_url</th>\n",
       "      <th>eu_url</th>\n",
       "      <th>as_url</th>\n",
       "      <th>cksum</th>\n",
       "      <th>granule_size</th>\n",
       "      <th>Date</th>\n",
       "    </tr>\n",
       "  </thead>\n",
       "  <tbody>\n",
       "    <tr>\n",
       "      <th>4049</th>\n",
       "      <td>20200604T070000_maiac_dl_0.hdf</td>\n",
       "      <td>2020-06-04T05:15:00.000Z</td>\n",
       "      <td>2020-06-04 07:00:00+00:00</td>\n",
       "      <td>maiac</td>\n",
       "      <td>dl</td>\n",
       "      <td>train</td>\n",
       "      <td>s3://drivendata-competition-airathon-public-us...</td>\n",
       "      <td>s3://drivendata-competition-airathon-public-eu...</td>\n",
       "      <td>s3://drivendata-competition-airathon-public-as...</td>\n",
       "      <td>2937961848</td>\n",
       "      <td>10435128</td>\n",
       "      <td>2020-06-04 07:00:00+00:00</td>\n",
       "    </tr>\n",
       "  </tbody>\n",
       "</table>\n",
       "</div>"
      ],
      "text/plain": [
       "                          granule_id                time_start  \\\n",
       "4049  20200604T070000_maiac_dl_0.hdf  2020-06-04T05:15:00.000Z   \n",
       "\n",
       "                       time_end product location  split  \\\n",
       "4049  2020-06-04 07:00:00+00:00   maiac       dl  train   \n",
       "\n",
       "                                                 us_url  \\\n",
       "4049  s3://drivendata-competition-airathon-public-us...   \n",
       "\n",
       "                                                 eu_url  \\\n",
       "4049  s3://drivendata-competition-airathon-public-eu...   \n",
       "\n",
       "                                                 as_url       cksum  \\\n",
       "4049  s3://drivendata-competition-airathon-public-as...  2937961848   \n",
       "\n",
       "      granule_size                      Date  \n",
       "4049      10435128 2020-06-04 07:00:00+00:00  "
      ]
     },
     "execution_count": 23,
     "metadata": {},
     "output_type": "execute_result"
    }
   ],
   "source": [
    "ddd = satellite_metadata[satellite_metadata['us_url'] == 's3://drivendata-competition-airathon-public-us/pm25/train/maiac/2020/20200604T070000_maiac_dl_0.hdf']\n",
    "ddd"
   ]
  },
  {
   "cell_type": "code",
   "execution_count": 24,
   "id": "56ce54d9",
   "metadata": {},
   "outputs": [],
   "source": [
    "features, labels = generate_features(train_labels_samples, \"train\")"
   ]
  },
  {
   "cell_type": "code",
   "execution_count": 26,
   "id": "6bfc7f3e",
   "metadata": {},
   "outputs": [
    {
     "data": {
      "text/plain": [
       "<matplotlib.image.AxesImage at 0x1776d7880>"
      ]
     },
     "execution_count": 26,
     "metadata": {},
     "output_type": "execute_result"
    },
    {
     "data": {
      "image/png": "[encoded data removed]",
      "text/plain": [
       "<Figure size 432x288 with 1 Axes>"
      ]
     },
     "metadata": {
      "needs_background": "light"
     },
     "output_type": "display_data"
    }
   ],
   "source": [
    "import matplotlib.pyplot as plt\n",
    "plt.imshow(features[0])"
   ]
  },
  {
   "cell_type": "code",
   "execution_count": 27,
   "id": "e0ed68a4",
   "metadata": {},
   "outputs": [
    {
     "data": {
      "text/plain": [
       "(1,)"
      ]
     },
     "execution_count": 27,
     "metadata": {},
     "output_type": "execute_result"
    }
   ],
   "source": [
    "labels.shape"
   ]
  },
  {
   "cell_type": "code",
   "execution_count": 28,
   "id": "5483a395",
   "metadata": {},
   "outputs": [
    {
     "name": "stderr",
     "output_type": "stream",
     "text": [
      "/var/folders/3v/yrsdtsln2833mlkhfz9t_crh0000gn/T/ipykernel_20542/1010997953.py:9: DeprecationWarning: KerasRegressor is deprecated, use Sci-Keras (https://github.com/adriangb/scikeras) instead.\n",
      "  estimator = KerasRegressor(build_fn=baseline_model, epochs=10, batch_size=5, verbose=0)\n"
     ]
    },
    {
     "ename": "ValueError",
     "evalue": "Cannot have number of splits n_splits=5 greater than the number of samples: n_samples=1.",
     "output_type": "error",
     "traceback": [
      "\u001b[0;31m---------------------------------------------------------------------------\u001b[0m",
      "\u001b[0;31mEmpty\u001b[0m                                     Traceback (most recent call last)",
      "File \u001b[0;32m/opt/homebrew/Caskroom/miniforge/base/envs/coms4995/lib/python3.9/site-packages/joblib/parallel.py:822\u001b[0m, in \u001b[0;36mParallel.dispatch_one_batch\u001b[0;34m(self, iterator)\u001b[0m\n\u001b[1;32m    <a href='file:///opt/homebrew/Caskroom/miniforge/base/envs/coms4995/lib/python3.9/site-packages/joblib/parallel.py?line=820'>821</a>\u001b[0m \u001b[39mtry\u001b[39;00m:\n\u001b[0;32m--> <a href='file:///opt/homebrew/Caskroom/miniforge/base/envs/coms4995/lib/python3.9/site-packages/joblib/parallel.py?line=821'>822</a>\u001b[0m     tasks \u001b[39m=\u001b[39m \u001b[39mself\u001b[39;49m\u001b[39m.\u001b[39;49m_ready_batches\u001b[39m.\u001b[39;49mget(block\u001b[39m=\u001b[39;49m\u001b[39mFalse\u001b[39;49;00m)\n\u001b[1;32m    <a href='file:///opt/homebrew/Caskroom/miniforge/base/envs/coms4995/lib/python3.9/site-packages/joblib/parallel.py?line=822'>823</a>\u001b[0m \u001b[39mexcept\u001b[39;00m queue\u001b[39m.\u001b[39mEmpty:\n\u001b[1;32m    <a href='file:///opt/homebrew/Caskroom/miniforge/base/envs/coms4995/lib/python3.9/site-packages/joblib/parallel.py?line=823'>824</a>\u001b[0m     \u001b[39m# slice the iterator n_jobs * batchsize items at a time. If the\u001b[39;00m\n\u001b[1;32m    <a href='file:///opt/homebrew/Caskroom/miniforge/base/envs/coms4995/lib/python3.9/site-packages/joblib/parallel.py?line=824'>825</a>\u001b[0m     \u001b[39m# slice returns less than that, then the current batchsize puts\u001b[39;00m\n\u001b[0;32m   (...)\u001b[0m\n\u001b[1;32m    <a href='file:///opt/homebrew/Caskroom/miniforge/base/envs/coms4995/lib/python3.9/site-packages/joblib/parallel.py?line=827'>828</a>\u001b[0m     \u001b[39m# accordingly to distribute evenly the last items between all\u001b[39;00m\n\u001b[1;32m    <a href='file:///opt/homebrew/Caskroom/miniforge/base/envs/coms4995/lib/python3.9/site-packages/joblib/parallel.py?line=828'>829</a>\u001b[0m     \u001b[39m# workers.\u001b[39;00m\n",
      "File \u001b[0;32m/opt/homebrew/Caskroom/miniforge/base/envs/coms4995/lib/python3.9/queue.py:168\u001b[0m, in \u001b[0;36mQueue.get\u001b[0;34m(self, block, timeout)\u001b[0m\n\u001b[1;32m    <a href='file:///opt/homebrew/Caskroom/miniforge/base/envs/coms4995/lib/python3.9/queue.py?line=166'>167</a>\u001b[0m     \u001b[39mif\u001b[39;00m \u001b[39mnot\u001b[39;00m \u001b[39mself\u001b[39m\u001b[39m.\u001b[39m_qsize():\n\u001b[0;32m--> <a href='file:///opt/homebrew/Caskroom/miniforge/base/envs/coms4995/lib/python3.9/queue.py?line=167'>168</a>\u001b[0m         \u001b[39mraise\u001b[39;00m Empty\n\u001b[1;32m    <a href='file:///opt/homebrew/Caskroom/miniforge/base/envs/coms4995/lib/python3.9/queue.py?line=168'>169</a>\u001b[0m \u001b[39melif\u001b[39;00m timeout \u001b[39mis\u001b[39;00m \u001b[39mNone\u001b[39;00m:\n",
      "\u001b[0;31mEmpty\u001b[0m: ",
      "\nDuring handling of the above exception, another exception occurred:\n",
      "\u001b[0;31mValueError\u001b[0m                                Traceback (most recent call last)",
      "\u001b[1;32m/Users/zehuachen/Developer/school/coms4995-deep-competition/nasa_airathon.ipynb Cell 27'\u001b[0m in \u001b[0;36m<module>\u001b[0;34m\u001b[0m\n\u001b[1;32m      <a href='vscode-notebook-cell:/Users/zehuachen/Developer/school/coms4995-deep-competition/nasa_airathon.ipynb#ch0000026?line=6'>7</a>\u001b[0m     \u001b[39mreturn\u001b[39;00m model\n\u001b[1;32m      <a href='vscode-notebook-cell:/Users/zehuachen/Developer/school/coms4995-deep-competition/nasa_airathon.ipynb#ch0000026?line=8'>9</a>\u001b[0m estimator \u001b[39m=\u001b[39m KerasRegressor(build_fn\u001b[39m=\u001b[39mbaseline_model, epochs\u001b[39m=\u001b[39m\u001b[39m10\u001b[39m, batch_size\u001b[39m=\u001b[39m\u001b[39m5\u001b[39m, verbose\u001b[39m=\u001b[39m\u001b[39m0\u001b[39m)\n\u001b[0;32m---> <a href='vscode-notebook-cell:/Users/zehuachen/Developer/school/coms4995-deep-competition/nasa_airathon.ipynb#ch0000026?line=9'>10</a>\u001b[0m results \u001b[39m=\u001b[39m cross_val_score(estimator, features, labels)\n\u001b[1;32m     <a href='vscode-notebook-cell:/Users/zehuachen/Developer/school/coms4995-deep-competition/nasa_airathon.ipynb#ch0000026?line=10'>11</a>\u001b[0m \u001b[39mprint\u001b[39m(\u001b[39m\"\u001b[39m\u001b[39mBaseline: \u001b[39m\u001b[39m%.2f\u001b[39;00m\u001b[39m (\u001b[39m\u001b[39m%.2f\u001b[39;00m\u001b[39m) MSE\u001b[39m\u001b[39m\"\u001b[39m \u001b[39m%\u001b[39m (results\u001b[39m.\u001b[39mmean(), results\u001b[39m.\u001b[39mstd()))\n",
      "File \u001b[0;32m/opt/homebrew/Caskroom/miniforge/base/envs/coms4995/lib/python3.9/site-packages/sklearn/model_selection/_validation.py:509\u001b[0m, in \u001b[0;36mcross_val_score\u001b[0;34m(estimator, X, y, groups, scoring, cv, n_jobs, verbose, fit_params, pre_dispatch, error_score)\u001b[0m\n\u001b[1;32m    <a href='file:///opt/homebrew/Caskroom/miniforge/base/envs/coms4995/lib/python3.9/site-packages/sklearn/model_selection/_validation.py?line=505'>506</a>\u001b[0m \u001b[39m# To ensure multimetric format is not supported\u001b[39;00m\n\u001b[1;32m    <a href='file:///opt/homebrew/Caskroom/miniforge/base/envs/coms4995/lib/python3.9/site-packages/sklearn/model_selection/_validation.py?line=506'>507</a>\u001b[0m scorer \u001b[39m=\u001b[39m check_scoring(estimator, scoring\u001b[39m=\u001b[39mscoring)\n\u001b[0;32m--> <a href='file:///opt/homebrew/Caskroom/miniforge/base/envs/coms4995/lib/python3.9/site-packages/sklearn/model_selection/_validation.py?line=508'>509</a>\u001b[0m cv_results \u001b[39m=\u001b[39m cross_validate(\n\u001b[1;32m    <a href='file:///opt/homebrew/Caskroom/miniforge/base/envs/coms4995/lib/python3.9/site-packages/sklearn/model_selection/_validation.py?line=509'>510</a>\u001b[0m     estimator\u001b[39m=\u001b[39;49mestimator,\n\u001b[1;32m    <a href='file:///opt/homebrew/Caskroom/miniforge/base/envs/coms4995/lib/python3.9/site-packages/sklearn/model_selection/_validation.py?line=510'>511</a>\u001b[0m     X\u001b[39m=\u001b[39;49mX,\n\u001b[1;32m    <a href='file:///opt/homebrew/Caskroom/miniforge/base/envs/coms4995/lib/python3.9/site-packages/sklearn/model_selection/_validation.py?line=511'>512</a>\u001b[0m     y\u001b[39m=\u001b[39;49my,\n\u001b[1;32m    <a href='file:///opt/homebrew/Caskroom/miniforge/base/envs/coms4995/lib/python3.9/site-packages/sklearn/model_selection/_validation.py?line=512'>513</a>\u001b[0m     groups\u001b[39m=\u001b[39;49mgroups,\n\u001b[1;32m    <a href='file:///opt/homebrew/Caskroom/miniforge/base/envs/coms4995/lib/python3.9/site-packages/sklearn/model_selection/_validation.py?line=513'>514</a>\u001b[0m     scoring\u001b[39m=\u001b[39;49m{\u001b[39m\"\u001b[39;49m\u001b[39mscore\u001b[39;49m\u001b[39m\"\u001b[39;49m: scorer},\n\u001b[1;32m    <a href='file:///opt/homebrew/Caskroom/miniforge/base/envs/coms4995/lib/python3.9/site-packages/sklearn/model_selection/_validation.py?line=514'>515</a>\u001b[0m     cv\u001b[39m=\u001b[39;49mcv,\n\u001b[1;32m    <a href='file:///opt/homebrew/Caskroom/miniforge/base/envs/coms4995/lib/python3.9/site-packages/sklearn/model_selection/_validation.py?line=515'>516</a>\u001b[0m     n_jobs\u001b[39m=\u001b[39;49mn_jobs,\n\u001b[1;32m    <a href='file:///opt/homebrew/Caskroom/miniforge/base/envs/coms4995/lib/python3.9/site-packages/sklearn/model_selection/_validation.py?line=516'>517</a>\u001b[0m     verbose\u001b[39m=\u001b[39;49mverbose,\n\u001b[1;32m    <a href='file:///opt/homebrew/Caskroom/miniforge/base/envs/coms4995/lib/python3.9/site-packages/sklearn/model_selection/_validation.py?line=517'>518</a>\u001b[0m     fit_params\u001b[39m=\u001b[39;49mfit_params,\n\u001b[1;32m    <a href='file:///opt/homebrew/Caskroom/miniforge/base/envs/coms4995/lib/python3.9/site-packages/sklearn/model_selection/_validation.py?line=518'>519</a>\u001b[0m     pre_dispatch\u001b[39m=\u001b[39;49mpre_dispatch,\n\u001b[1;32m    <a href='file:///opt/homebrew/Caskroom/miniforge/base/envs/coms4995/lib/python3.9/site-packages/sklearn/model_selection/_validation.py?line=519'>520</a>\u001b[0m     error_score\u001b[39m=\u001b[39;49merror_score,\n\u001b[1;32m    <a href='file:///opt/homebrew/Caskroom/miniforge/base/envs/coms4995/lib/python3.9/site-packages/sklearn/model_selection/_validation.py?line=520'>521</a>\u001b[0m )\n\u001b[1;32m    <a href='file:///opt/homebrew/Caskroom/miniforge/base/envs/coms4995/lib/python3.9/site-packages/sklearn/model_selection/_validation.py?line=521'>522</a>\u001b[0m \u001b[39mreturn\u001b[39;00m cv_results[\u001b[39m\"\u001b[39m\u001b[39mtest_score\u001b[39m\u001b[39m\"\u001b[39m]\n",
      "File \u001b[0;32m/opt/homebrew/Caskroom/miniforge/base/envs/coms4995/lib/python3.9/site-packages/sklearn/model_selection/_validation.py:267\u001b[0m, in \u001b[0;36mcross_validate\u001b[0;34m(estimator, X, y, groups, scoring, cv, n_jobs, verbose, fit_params, pre_dispatch, return_train_score, return_estimator, error_score)\u001b[0m\n\u001b[1;32m    <a href='file:///opt/homebrew/Caskroom/miniforge/base/envs/coms4995/lib/python3.9/site-packages/sklearn/model_selection/_validation.py?line=263'>264</a>\u001b[0m \u001b[39m# We clone the estimator to make sure that all the folds are\u001b[39;00m\n\u001b[1;32m    <a href='file:///opt/homebrew/Caskroom/miniforge/base/envs/coms4995/lib/python3.9/site-packages/sklearn/model_selection/_validation.py?line=264'>265</a>\u001b[0m \u001b[39m# independent, and that it is pickle-able.\u001b[39;00m\n\u001b[1;32m    <a href='file:///opt/homebrew/Caskroom/miniforge/base/envs/coms4995/lib/python3.9/site-packages/sklearn/model_selection/_validation.py?line=265'>266</a>\u001b[0m parallel \u001b[39m=\u001b[39m Parallel(n_jobs\u001b[39m=\u001b[39mn_jobs, verbose\u001b[39m=\u001b[39mverbose, pre_dispatch\u001b[39m=\u001b[39mpre_dispatch)\n\u001b[0;32m--> <a href='file:///opt/homebrew/Caskroom/miniforge/base/envs/coms4995/lib/python3.9/site-packages/sklearn/model_selection/_validation.py?line=266'>267</a>\u001b[0m results \u001b[39m=\u001b[39m parallel(\n\u001b[1;32m    <a href='file:///opt/homebrew/Caskroom/miniforge/base/envs/coms4995/lib/python3.9/site-packages/sklearn/model_selection/_validation.py?line=267'>268</a>\u001b[0m     delayed(_fit_and_score)(\n\u001b[1;32m    <a href='file:///opt/homebrew/Caskroom/miniforge/base/envs/coms4995/lib/python3.9/site-packages/sklearn/model_selection/_validation.py?line=268'>269</a>\u001b[0m         clone(estimator),\n\u001b[1;32m    <a href='file:///opt/homebrew/Caskroom/miniforge/base/envs/coms4995/lib/python3.9/site-packages/sklearn/model_selection/_validation.py?line=269'>270</a>\u001b[0m         X,\n\u001b[1;32m    <a href='file:///opt/homebrew/Caskroom/miniforge/base/envs/coms4995/lib/python3.9/site-packages/sklearn/model_selection/_validation.py?line=270'>271</a>\u001b[0m         y,\n\u001b[1;32m    <a href='file:///opt/homebrew/Caskroom/miniforge/base/envs/coms4995/lib/python3.9/site-packages/sklearn/model_selection/_validation.py?line=271'>272</a>\u001b[0m         scorers,\n\u001b[1;32m    <a href='file:///opt/homebrew/Caskroom/miniforge/base/envs/coms4995/lib/python3.9/site-packages/sklearn/model_selection/_validation.py?line=272'>273</a>\u001b[0m         train,\n\u001b[1;32m    <a href='file:///opt/homebrew/Caskroom/miniforge/base/envs/coms4995/lib/python3.9/site-packages/sklearn/model_selection/_validation.py?line=273'>274</a>\u001b[0m         test,\n\u001b[1;32m    <a href='file:///opt/homebrew/Caskroom/miniforge/base/envs/coms4995/lib/python3.9/site-packages/sklearn/model_selection/_validation.py?line=274'>275</a>\u001b[0m         verbose,\n\u001b[1;32m    <a href='file:///opt/homebrew/Caskroom/miniforge/base/envs/coms4995/lib/python3.9/site-packages/sklearn/model_selection/_validation.py?line=275'>276</a>\u001b[0m         \u001b[39mNone\u001b[39;49;00m,\n\u001b[1;32m    <a href='file:///opt/homebrew/Caskroom/miniforge/base/envs/coms4995/lib/python3.9/site-packages/sklearn/model_selection/_validation.py?line=276'>277</a>\u001b[0m         fit_params,\n\u001b[1;32m    <a href='file:///opt/homebrew/Caskroom/miniforge/base/envs/coms4995/lib/python3.9/site-packages/sklearn/model_selection/_validation.py?line=277'>278</a>\u001b[0m         return_train_score\u001b[39m=\u001b[39;49mreturn_train_score,\n\u001b[1;32m    <a href='file:///opt/homebrew/Caskroom/miniforge/base/envs/coms4995/lib/python3.9/site-packages/sklearn/model_selection/_validation.py?line=278'>279</a>\u001b[0m         return_times\u001b[39m=\u001b[39;49m\u001b[39mTrue\u001b[39;49;00m,\n\u001b[1;32m    <a href='file:///opt/homebrew/Caskroom/miniforge/base/envs/coms4995/lib/python3.9/site-packages/sklearn/model_selection/_validation.py?line=279'>280</a>\u001b[0m         return_estimator\u001b[39m=\u001b[39;49mreturn_estimator,\n\u001b[1;32m    <a href='file:///opt/homebrew/Caskroom/miniforge/base/envs/coms4995/lib/python3.9/site-packages/sklearn/model_selection/_validation.py?line=280'>281</a>\u001b[0m         error_score\u001b[39m=\u001b[39;49merror_score,\n\u001b[1;32m    <a href='file:///opt/homebrew/Caskroom/miniforge/base/envs/coms4995/lib/python3.9/site-packages/sklearn/model_selection/_validation.py?line=281'>282</a>\u001b[0m     )\n\u001b[1;32m    <a href='file:///opt/homebrew/Caskroom/miniforge/base/envs/coms4995/lib/python3.9/site-packages/sklearn/model_selection/_validation.py?line=282'>283</a>\u001b[0m     \u001b[39mfor\u001b[39;49;00m train, test \u001b[39min\u001b[39;49;00m cv\u001b[39m.\u001b[39;49msplit(X, y, groups)\n\u001b[1;32m    <a href='file:///opt/homebrew/Caskroom/miniforge/base/envs/coms4995/lib/python3.9/site-packages/sklearn/model_selection/_validation.py?line=283'>284</a>\u001b[0m )\n\u001b[1;32m    <a href='file:///opt/homebrew/Caskroom/miniforge/base/envs/coms4995/lib/python3.9/site-packages/sklearn/model_selection/_validation.py?line=285'>286</a>\u001b[0m _warn_about_fit_failures(results, error_score)\n\u001b[1;32m    <a href='file:///opt/homebrew/Caskroom/miniforge/base/envs/coms4995/lib/python3.9/site-packages/sklearn/model_selection/_validation.py?line=287'>288</a>\u001b[0m \u001b[39m# For callabe scoring, the return type is only know after calling. If the\u001b[39;00m\n\u001b[1;32m    <a href='file:///opt/homebrew/Caskroom/miniforge/base/envs/coms4995/lib/python3.9/site-packages/sklearn/model_selection/_validation.py?line=288'>289</a>\u001b[0m \u001b[39m# return type is a dictionary, the error scores can now be inserted with\u001b[39;00m\n\u001b[1;32m    <a href='file:///opt/homebrew/Caskroom/miniforge/base/envs/coms4995/lib/python3.9/site-packages/sklearn/model_selection/_validation.py?line=289'>290</a>\u001b[0m \u001b[39m# the correct key.\u001b[39;00m\n",
      "File \u001b[0;32m/opt/homebrew/Caskroom/miniforge/base/envs/coms4995/lib/python3.9/site-packages/joblib/parallel.py:1043\u001b[0m, in \u001b[0;36mParallel.__call__\u001b[0;34m(self, iterable)\u001b[0m\n\u001b[1;32m   <a href='file:///opt/homebrew/Caskroom/miniforge/base/envs/coms4995/lib/python3.9/site-packages/joblib/parallel.py?line=1033'>1034</a>\u001b[0m \u001b[39mtry\u001b[39;00m:\n\u001b[1;32m   <a href='file:///opt/homebrew/Caskroom/miniforge/base/envs/coms4995/lib/python3.9/site-packages/joblib/parallel.py?line=1034'>1035</a>\u001b[0m     \u001b[39m# Only set self._iterating to True if at least a batch\u001b[39;00m\n\u001b[1;32m   <a href='file:///opt/homebrew/Caskroom/miniforge/base/envs/coms4995/lib/python3.9/site-packages/joblib/parallel.py?line=1035'>1036</a>\u001b[0m     \u001b[39m# was dispatched. In particular this covers the edge\u001b[39;00m\n\u001b[0;32m   (...)\u001b[0m\n\u001b[1;32m   <a href='file:///opt/homebrew/Caskroom/miniforge/base/envs/coms4995/lib/python3.9/site-packages/joblib/parallel.py?line=1039'>1040</a>\u001b[0m     \u001b[39m# was very quick and its callback already dispatched all the\u001b[39;00m\n\u001b[1;32m   <a href='file:///opt/homebrew/Caskroom/miniforge/base/envs/coms4995/lib/python3.9/site-packages/joblib/parallel.py?line=1040'>1041</a>\u001b[0m     \u001b[39m# remaining jobs.\u001b[39;00m\n\u001b[1;32m   <a href='file:///opt/homebrew/Caskroom/miniforge/base/envs/coms4995/lib/python3.9/site-packages/joblib/parallel.py?line=1041'>1042</a>\u001b[0m     \u001b[39mself\u001b[39m\u001b[39m.\u001b[39m_iterating \u001b[39m=\u001b[39m \u001b[39mFalse\u001b[39;00m\n\u001b[0;32m-> <a href='file:///opt/homebrew/Caskroom/miniforge/base/envs/coms4995/lib/python3.9/site-packages/joblib/parallel.py?line=1042'>1043</a>\u001b[0m     \u001b[39mif\u001b[39;00m \u001b[39mself\u001b[39;49m\u001b[39m.\u001b[39;49mdispatch_one_batch(iterator):\n\u001b[1;32m   <a href='file:///opt/homebrew/Caskroom/miniforge/base/envs/coms4995/lib/python3.9/site-packages/joblib/parallel.py?line=1043'>1044</a>\u001b[0m         \u001b[39mself\u001b[39m\u001b[39m.\u001b[39m_iterating \u001b[39m=\u001b[39m \u001b[39mself\u001b[39m\u001b[39m.\u001b[39m_original_iterator \u001b[39mis\u001b[39;00m \u001b[39mnot\u001b[39;00m \u001b[39mNone\u001b[39;00m\n\u001b[1;32m   <a href='file:///opt/homebrew/Caskroom/miniforge/base/envs/coms4995/lib/python3.9/site-packages/joblib/parallel.py?line=1045'>1046</a>\u001b[0m     \u001b[39mwhile\u001b[39;00m \u001b[39mself\u001b[39m\u001b[39m.\u001b[39mdispatch_one_batch(iterator):\n",
      "File \u001b[0;32m/opt/homebrew/Caskroom/miniforge/base/envs/coms4995/lib/python3.9/site-packages/joblib/parallel.py:833\u001b[0m, in \u001b[0;36mParallel.dispatch_one_batch\u001b[0;34m(self, iterator)\u001b[0m\n\u001b[1;32m    <a href='file:///opt/homebrew/Caskroom/miniforge/base/envs/coms4995/lib/python3.9/site-packages/joblib/parallel.py?line=829'>830</a>\u001b[0m n_jobs \u001b[39m=\u001b[39m \u001b[39mself\u001b[39m\u001b[39m.\u001b[39m_cached_effective_n_jobs\n\u001b[1;32m    <a href='file:///opt/homebrew/Caskroom/miniforge/base/envs/coms4995/lib/python3.9/site-packages/joblib/parallel.py?line=830'>831</a>\u001b[0m big_batch_size \u001b[39m=\u001b[39m batch_size \u001b[39m*\u001b[39m n_jobs\n\u001b[0;32m--> <a href='file:///opt/homebrew/Caskroom/miniforge/base/envs/coms4995/lib/python3.9/site-packages/joblib/parallel.py?line=832'>833</a>\u001b[0m islice \u001b[39m=\u001b[39m \u001b[39mlist\u001b[39;49m(itertools\u001b[39m.\u001b[39;49mislice(iterator, big_batch_size))\n\u001b[1;32m    <a href='file:///opt/homebrew/Caskroom/miniforge/base/envs/coms4995/lib/python3.9/site-packages/joblib/parallel.py?line=833'>834</a>\u001b[0m \u001b[39mif\u001b[39;00m \u001b[39mlen\u001b[39m(islice) \u001b[39m==\u001b[39m \u001b[39m0\u001b[39m:\n\u001b[1;32m    <a href='file:///opt/homebrew/Caskroom/miniforge/base/envs/coms4995/lib/python3.9/site-packages/joblib/parallel.py?line=834'>835</a>\u001b[0m     \u001b[39mreturn\u001b[39;00m \u001b[39mFalse\u001b[39;00m\n",
      "File \u001b[0;32m/opt/homebrew/Caskroom/miniforge/base/envs/coms4995/lib/python3.9/site-packages/sklearn/model_selection/_validation.py:267\u001b[0m, in \u001b[0;36m<genexpr>\u001b[0;34m(.0)\u001b[0m\n\u001b[1;32m    <a href='file:///opt/homebrew/Caskroom/miniforge/base/envs/coms4995/lib/python3.9/site-packages/sklearn/model_selection/_validation.py?line=263'>264</a>\u001b[0m \u001b[39m# We clone the estimator to make sure that all the folds are\u001b[39;00m\n\u001b[1;32m    <a href='file:///opt/homebrew/Caskroom/miniforge/base/envs/coms4995/lib/python3.9/site-packages/sklearn/model_selection/_validation.py?line=264'>265</a>\u001b[0m \u001b[39m# independent, and that it is pickle-able.\u001b[39;00m\n\u001b[1;32m    <a href='file:///opt/homebrew/Caskroom/miniforge/base/envs/coms4995/lib/python3.9/site-packages/sklearn/model_selection/_validation.py?line=265'>266</a>\u001b[0m parallel \u001b[39m=\u001b[39m Parallel(n_jobs\u001b[39m=\u001b[39mn_jobs, verbose\u001b[39m=\u001b[39mverbose, pre_dispatch\u001b[39m=\u001b[39mpre_dispatch)\n\u001b[0;32m--> <a href='file:///opt/homebrew/Caskroom/miniforge/base/envs/coms4995/lib/python3.9/site-packages/sklearn/model_selection/_validation.py?line=266'>267</a>\u001b[0m results \u001b[39m=\u001b[39m parallel(\n\u001b[1;32m    <a href='file:///opt/homebrew/Caskroom/miniforge/base/envs/coms4995/lib/python3.9/site-packages/sklearn/model_selection/_validation.py?line=267'>268</a>\u001b[0m     delayed(_fit_and_score)(\n\u001b[1;32m    <a href='file:///opt/homebrew/Caskroom/miniforge/base/envs/coms4995/lib/python3.9/site-packages/sklearn/model_selection/_validation.py?line=268'>269</a>\u001b[0m         clone(estimator),\n\u001b[1;32m    <a href='file:///opt/homebrew/Caskroom/miniforge/base/envs/coms4995/lib/python3.9/site-packages/sklearn/model_selection/_validation.py?line=269'>270</a>\u001b[0m         X,\n\u001b[1;32m    <a href='file:///opt/homebrew/Caskroom/miniforge/base/envs/coms4995/lib/python3.9/site-packages/sklearn/model_selection/_validation.py?line=270'>271</a>\u001b[0m         y,\n\u001b[1;32m    <a href='file:///opt/homebrew/Caskroom/miniforge/base/envs/coms4995/lib/python3.9/site-packages/sklearn/model_selection/_validation.py?line=271'>272</a>\u001b[0m         scorers,\n\u001b[1;32m    <a href='file:///opt/homebrew/Caskroom/miniforge/base/envs/coms4995/lib/python3.9/site-packages/sklearn/model_selection/_validation.py?line=272'>273</a>\u001b[0m         train,\n\u001b[1;32m    <a href='file:///opt/homebrew/Caskroom/miniforge/base/envs/coms4995/lib/python3.9/site-packages/sklearn/model_selection/_validation.py?line=273'>274</a>\u001b[0m         test,\n\u001b[1;32m    <a href='file:///opt/homebrew/Caskroom/miniforge/base/envs/coms4995/lib/python3.9/site-packages/sklearn/model_selection/_validation.py?line=274'>275</a>\u001b[0m         verbose,\n\u001b[1;32m    <a href='file:///opt/homebrew/Caskroom/miniforge/base/envs/coms4995/lib/python3.9/site-packages/sklearn/model_selection/_validation.py?line=275'>276</a>\u001b[0m         \u001b[39mNone\u001b[39;00m,\n\u001b[1;32m    <a href='file:///opt/homebrew/Caskroom/miniforge/base/envs/coms4995/lib/python3.9/site-packages/sklearn/model_selection/_validation.py?line=276'>277</a>\u001b[0m         fit_params,\n\u001b[1;32m    <a href='file:///opt/homebrew/Caskroom/miniforge/base/envs/coms4995/lib/python3.9/site-packages/sklearn/model_selection/_validation.py?line=277'>278</a>\u001b[0m         return_train_score\u001b[39m=\u001b[39mreturn_train_score,\n\u001b[1;32m    <a href='file:///opt/homebrew/Caskroom/miniforge/base/envs/coms4995/lib/python3.9/site-packages/sklearn/model_selection/_validation.py?line=278'>279</a>\u001b[0m         return_times\u001b[39m=\u001b[39m\u001b[39mTrue\u001b[39;00m,\n\u001b[1;32m    <a href='file:///opt/homebrew/Caskroom/miniforge/base/envs/coms4995/lib/python3.9/site-packages/sklearn/model_selection/_validation.py?line=279'>280</a>\u001b[0m         return_estimator\u001b[39m=\u001b[39mreturn_estimator,\n\u001b[1;32m    <a href='file:///opt/homebrew/Caskroom/miniforge/base/envs/coms4995/lib/python3.9/site-packages/sklearn/model_selection/_validation.py?line=280'>281</a>\u001b[0m         error_score\u001b[39m=\u001b[39merror_score,\n\u001b[1;32m    <a href='file:///opt/homebrew/Caskroom/miniforge/base/envs/coms4995/lib/python3.9/site-packages/sklearn/model_selection/_validation.py?line=281'>282</a>\u001b[0m     )\n\u001b[1;32m    <a href='file:///opt/homebrew/Caskroom/miniforge/base/envs/coms4995/lib/python3.9/site-packages/sklearn/model_selection/_validation.py?line=282'>283</a>\u001b[0m     \u001b[39mfor\u001b[39;00m train, test \u001b[39min\u001b[39;00m cv\u001b[39m.\u001b[39msplit(X, y, groups)\n\u001b[1;32m    <a href='file:///opt/homebrew/Caskroom/miniforge/base/envs/coms4995/lib/python3.9/site-packages/sklearn/model_selection/_validation.py?line=283'>284</a>\u001b[0m )\n\u001b[1;32m    <a href='file:///opt/homebrew/Caskroom/miniforge/base/envs/coms4995/lib/python3.9/site-packages/sklearn/model_selection/_validation.py?line=285'>286</a>\u001b[0m _warn_about_fit_failures(results, error_score)\n\u001b[1;32m    <a href='file:///opt/homebrew/Caskroom/miniforge/base/envs/coms4995/lib/python3.9/site-packages/sklearn/model_selection/_validation.py?line=287'>288</a>\u001b[0m \u001b[39m# For callabe scoring, the return type is only know after calling. If the\u001b[39;00m\n\u001b[1;32m    <a href='file:///opt/homebrew/Caskroom/miniforge/base/envs/coms4995/lib/python3.9/site-packages/sklearn/model_selection/_validation.py?line=288'>289</a>\u001b[0m \u001b[39m# return type is a dictionary, the error scores can now be inserted with\u001b[39;00m\n\u001b[1;32m    <a href='file:///opt/homebrew/Caskroom/miniforge/base/envs/coms4995/lib/python3.9/site-packages/sklearn/model_selection/_validation.py?line=289'>290</a>\u001b[0m \u001b[39m# the correct key.\u001b[39;00m\n",
      "File \u001b[0;32m/opt/homebrew/Caskroom/miniforge/base/envs/coms4995/lib/python3.9/site-packages/sklearn/model_selection/_split.py:333\u001b[0m, in \u001b[0;36m_BaseKFold.split\u001b[0;34m(self, X, y, groups)\u001b[0m\n\u001b[1;32m    <a href='file:///opt/homebrew/Caskroom/miniforge/base/envs/coms4995/lib/python3.9/site-packages/sklearn/model_selection/_split.py?line=330'>331</a>\u001b[0m n_samples \u001b[39m=\u001b[39m _num_samples(X)\n\u001b[1;32m    <a href='file:///opt/homebrew/Caskroom/miniforge/base/envs/coms4995/lib/python3.9/site-packages/sklearn/model_selection/_split.py?line=331'>332</a>\u001b[0m \u001b[39mif\u001b[39;00m \u001b[39mself\u001b[39m\u001b[39m.\u001b[39mn_splits \u001b[39m>\u001b[39m n_samples:\n\u001b[0;32m--> <a href='file:///opt/homebrew/Caskroom/miniforge/base/envs/coms4995/lib/python3.9/site-packages/sklearn/model_selection/_split.py?line=332'>333</a>\u001b[0m     \u001b[39mraise\u001b[39;00m \u001b[39mValueError\u001b[39;00m(\n\u001b[1;32m    <a href='file:///opt/homebrew/Caskroom/miniforge/base/envs/coms4995/lib/python3.9/site-packages/sklearn/model_selection/_split.py?line=333'>334</a>\u001b[0m         (\n\u001b[1;32m    <a href='file:///opt/homebrew/Caskroom/miniforge/base/envs/coms4995/lib/python3.9/site-packages/sklearn/model_selection/_split.py?line=334'>335</a>\u001b[0m             \u001b[39m\"\u001b[39m\u001b[39mCannot have number of splits n_splits=\u001b[39m\u001b[39m{0}\u001b[39;00m\u001b[39m greater\u001b[39m\u001b[39m\"\u001b[39m\n\u001b[1;32m    <a href='file:///opt/homebrew/Caskroom/miniforge/base/envs/coms4995/lib/python3.9/site-packages/sklearn/model_selection/_split.py?line=335'>336</a>\u001b[0m             \u001b[39m\"\u001b[39m\u001b[39m than the number of samples: n_samples=\u001b[39m\u001b[39m{1}\u001b[39;00m\u001b[39m.\u001b[39m\u001b[39m\"\u001b[39m\n\u001b[1;32m    <a href='file:///opt/homebrew/Caskroom/miniforge/base/envs/coms4995/lib/python3.9/site-packages/sklearn/model_selection/_split.py?line=336'>337</a>\u001b[0m         )\u001b[39m.\u001b[39mformat(\u001b[39mself\u001b[39m\u001b[39m.\u001b[39mn_splits, n_samples)\n\u001b[1;32m    <a href='file:///opt/homebrew/Caskroom/miniforge/base/envs/coms4995/lib/python3.9/site-packages/sklearn/model_selection/_split.py?line=337'>338</a>\u001b[0m     )\n\u001b[1;32m    <a href='file:///opt/homebrew/Caskroom/miniforge/base/envs/coms4995/lib/python3.9/site-packages/sklearn/model_selection/_split.py?line=339'>340</a>\u001b[0m \u001b[39mfor\u001b[39;00m train, test \u001b[39min\u001b[39;00m \u001b[39msuper\u001b[39m()\u001b[39m.\u001b[39msplit(X, y, groups):\n\u001b[1;32m    <a href='file:///opt/homebrew/Caskroom/miniforge/base/envs/coms4995/lib/python3.9/site-packages/sklearn/model_selection/_split.py?line=340'>341</a>\u001b[0m     \u001b[39myield\u001b[39;00m train, test\n",
      "\u001b[0;31mValueError\u001b[0m: Cannot have number of splits n_splits=5 greater than the number of samples: n_samples=1."
     ]
    }
   ],
   "source": [
    "def baseline_model():\n",
    "    model = Sequential()\n",
    "    #add CNN 240*240\n",
    "    model.add(Dense(1, input_dim=57600, activation='relu'))\n",
    "    model.add(Dense(1))\n",
    "    model.compile(loss='mean_squared_error', optimizer='adam')\n",
    "    return model\n",
    "\n",
    "estimator = KerasRegressor(build_fn=baseline_model, epochs=10, batch_size=5, verbose=0)\n",
    "results = cross_val_score(estimator, features, labels)\n",
    "print(\"Baseline: %.2f (%.2f) MSE\" % (results.mean(), results.std()))"
   ]
  },
  {
   "cell_type": "code",
   "execution_count": null,
   "id": "074956da",
   "metadata": {},
   "outputs": [],
   "source": []
  }
 ],
 "metadata": {
  "kernelspec": {
   "display_name": "Python 3 (ipykernel)",
   "language": "python",
   "name": "python3"
  },
  "language_info": {
   "codemirror_mode": {
    "name": "ipython",
    "version": 3
   },
   "file_extension": ".py",
   "mimetype": "text/x-python",
   "name": "python",
   "nbconvert_exporter": "python",
   "pygments_lexer": "ipython3",
   "version": "3.9.10"
  }
 },
 "nbformat": 4,
 "nbformat_minor": 5
}
