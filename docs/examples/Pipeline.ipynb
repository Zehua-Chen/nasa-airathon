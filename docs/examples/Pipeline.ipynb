{
 "cells": [
  {
   "cell_type": "markdown",
   "metadata": {},
   "source": [
    "# Overview\n",
    "\n",
    "How to use Tensorflow `tf.data` to build data pipeline"
   ]
  },
  {
   "cell_type": "code",
   "execution_count": 1,
   "metadata": {},
   "outputs": [
    {
     "data": {
      "text/plain": [
       "'2.7.0'"
      ]
     },
     "execution_count": 1,
     "metadata": {},
     "output_type": "execute_result"
    }
   ],
   "source": [
    "import tensorflow as tf\n",
    "import pandas as pd\n",
    "import os\n",
    "import airathon.paths as paths\n",
    "\n",
    "Dataset = tf.data.Dataset\n",
    "\n",
    "tf.__version__"
   ]
  },
  {
   "cell_type": "code",
   "execution_count": 2,
   "metadata": {},
   "outputs": [],
   "source": [
    "assert tf.executing_eagerly()"
   ]
  },
  {
   "cell_type": "markdown",
   "metadata": {},
   "source": [
    "# Basics"
   ]
  },
  {
   "cell_type": "code",
   "execution_count": 3,
   "metadata": {},
   "outputs": [
    {
     "name": "stderr",
     "output_type": "stream",
     "text": [
      "2022-03-19 19:16:53.122815: I tensorflow/stream_executor/cuda/cuda_gpu_executor.cc:939] successful NUMA node read from SysFS had negative value (-1), but there must be at least one NUMA node, so returning NUMA node zero\n",
      "2022-03-19 19:16:53.170763: I tensorflow/stream_executor/cuda/cuda_gpu_executor.cc:939] successful NUMA node read from SysFS had negative value (-1), but there must be at least one NUMA node, so returning NUMA node zero\n",
      "2022-03-19 19:16:53.171650: I tensorflow/stream_executor/cuda/cuda_gpu_executor.cc:939] successful NUMA node read from SysFS had negative value (-1), but there must be at least one NUMA node, so returning NUMA node zero\n"
     ]
    },
    {
     "name": "stdout",
     "output_type": "stream",
     "text": [
      "id = [1], type = <class 'tensorflow.python.framework.ops.EagerTensor'>\n",
      "id = [2], type = <class 'tensorflow.python.framework.ops.EagerTensor'>\n",
      "id = [3], type = <class 'tensorflow.python.framework.ops.EagerTensor'>\n",
      "TensorSpec(shape=(1,), dtype=tf.int32, name=None)\n"
     ]
    },
    {
     "name": "stderr",
     "output_type": "stream",
     "text": [
      "2022-03-19 19:16:53.175916: I tensorflow/core/platform/cpu_feature_guard.cc:151] This TensorFlow binary is optimized with oneAPI Deep Neural Network Library (oneDNN) to use the following CPU instructions in performance-critical operations:  SSE4.1 SSE4.2 AVX AVX2 FMA\n",
      "To enable them in other operations, rebuild TensorFlow with the appropriate compiler flags.\n",
      "2022-03-19 19:16:53.176351: I tensorflow/stream_executor/cuda/cuda_gpu_executor.cc:939] successful NUMA node read from SysFS had negative value (-1), but there must be at least one NUMA node, so returning NUMA node zero\n",
      "2022-03-19 19:16:53.177539: I tensorflow/stream_executor/cuda/cuda_gpu_executor.cc:939] successful NUMA node read from SysFS had negative value (-1), but there must be at least one NUMA node, so returning NUMA node zero\n",
      "2022-03-19 19:16:53.178615: I tensorflow/stream_executor/cuda/cuda_gpu_executor.cc:939] successful NUMA node read from SysFS had negative value (-1), but there must be at least one NUMA node, so returning NUMA node zero\n",
      "2022-03-19 19:16:53.721077: I tensorflow/stream_executor/cuda/cuda_gpu_executor.cc:939] successful NUMA node read from SysFS had negative value (-1), but there must be at least one NUMA node, so returning NUMA node zero\n",
      "2022-03-19 19:16:53.721930: I tensorflow/stream_executor/cuda/cuda_gpu_executor.cc:939] successful NUMA node read from SysFS had negative value (-1), but there must be at least one NUMA node, so returning NUMA node zero\n",
      "2022-03-19 19:16:53.722712: I tensorflow/stream_executor/cuda/cuda_gpu_executor.cc:939] successful NUMA node read from SysFS had negative value (-1), but there must be at least one NUMA node, so returning NUMA node zero\n",
      "2022-03-19 19:16:53.723449: I tensorflow/core/common_runtime/gpu/gpu_device.cc:1525] Created device /job:localhost/replica:0/task:0/device:GPU:0 with 10782 MB memory:  -> device: 0, name: Tesla K80, pci bus id: 0000:00:04.0, compute capability: 3.7\n"
     ]
    }
   ],
   "source": [
    "id_dataset = Dataset.from_tensor_slices([[1], [2], [3]])\n",
    "\n",
    "for id in id_dataset:\n",
    "    print(f\"id = {id}, type = {type(id)}\")\n",
    "\n",
    "print(id_dataset.element_spec)"
   ]
  },
  {
   "cell_type": "markdown",
   "metadata": {},
   "source": [
    "# Transformation"
   ]
  },
  {
   "cell_type": "code",
   "execution_count": 4,
   "metadata": {},
   "outputs": [
    {
     "name": "stdout",
     "output_type": "stream",
     "text": [
      "id = [1], value = [1]\n",
      "id = [2], value = [4]\n",
      "id = [3], value = [9]\n",
      "<ZipDataset shapes: ((1,), (1,)), types: (tf.int32, tf.int32)>\n",
      "(TensorSpec(shape=(1,), dtype=tf.int32, name=None), TensorSpec(shape=(1,), dtype=tf.int32, name=None))\n"
     ]
    }
   ],
   "source": [
    "value_dataset = id_dataset.map(lambda row: row ** 2)\n",
    "id_value_dataset = Dataset.zip((id_dataset, value_dataset))\n",
    "\n",
    "for (id, value) in id_value_dataset:\n",
    "    print(f\"id = {id}, value = {value}\")\n",
    "\n",
    "print(id_value_dataset)\n",
    "print(id_value_dataset.element_spec)"
   ]
  },
  {
   "cell_type": "markdown",
   "metadata": {},
   "source": [
    "## Dict Transformation"
   ]
  },
  {
   "cell_type": "code",
   "execution_count": 5,
   "metadata": {},
   "outputs": [
    {
     "name": "stdout",
     "output_type": "stream",
     "text": [
      "tf.Tensor([1 2], shape=(2,), dtype=int32)\n",
      "tf.Tensor([2 2], shape=(2,), dtype=int32)\n",
      "tf.Tensor([3 2], shape=(2,), dtype=int32)\n"
     ]
    }
   ],
   "source": [
    "dict_dataset = Dataset.from_tensor_slices({ \"a\": [1, 2, 3], \"b\": [2, 2, 2] })\n",
    "flat_dict_dataset = dict_dataset.map(lambda i: tf.stack([i[\"a\"], i[\"b\"]]))\n",
    "\n",
    "for i in flat_dict_dataset:\n",
    "    print(i)"
   ]
  },
  {
   "cell_type": "markdown",
   "metadata": {},
   "source": [
    "# CSV"
   ]
  },
  {
   "cell_type": "code",
   "execution_count": 6,
   "metadata": {},
   "outputs": [
    {
     "data": {
      "text/html": [
       "<div>\n",
       "<style scoped>\n",
       "    .dataframe tbody tr th:only-of-type {\n",
       "        vertical-align: middle;\n",
       "    }\n",
       "\n",
       "    .dataframe tbody tr th {\n",
       "        vertical-align: top;\n",
       "    }\n",
       "\n",
       "    .dataframe thead th {\n",
       "        text-align: right;\n",
       "    }\n",
       "</style>\n",
       "<table border=\"1\" class=\"dataframe\">\n",
       "  <thead>\n",
       "    <tr style=\"text-align: right;\">\n",
       "      <th></th>\n",
       "      <th>grid_id</th>\n",
       "      <th>location</th>\n",
       "      <th>tz</th>\n",
       "      <th>wkt</th>\n",
       "    </tr>\n",
       "  </thead>\n",
       "  <tbody>\n",
       "    <tr>\n",
       "      <th>0</th>\n",
       "      <td>1X116</td>\n",
       "      <td>Taipei</td>\n",
       "      <td>Asia/Taipei</td>\n",
       "      <td>POLYGON ((121.5257644471362 24.97766123020391,...</td>\n",
       "    </tr>\n",
       "    <tr>\n",
       "      <th>1</th>\n",
       "      <td>1Z2W7</td>\n",
       "      <td>Delhi</td>\n",
       "      <td>Asia/Calcutta</td>\n",
       "      <td>POLYGON ((77.30453178416276 28.54664454217707,...</td>\n",
       "    </tr>\n",
       "    <tr>\n",
       "      <th>2</th>\n",
       "      <td>3S31A</td>\n",
       "      <td>Los Angeles (SoCAB)</td>\n",
       "      <td>Etc/GMT+8</td>\n",
       "      <td>POLYGON ((-117.9338248256995 33.79558357488509...</td>\n",
       "    </tr>\n",
       "    <tr>\n",
       "      <th>3</th>\n",
       "      <td>6EIL6</td>\n",
       "      <td>Delhi</td>\n",
       "      <td>Asia/Calcutta</td>\n",
       "      <td>POLYGON ((77.07995296313287 28.54664454217707,...</td>\n",
       "    </tr>\n",
       "    <tr>\n",
       "      <th>4</th>\n",
       "      <td>7334C</td>\n",
       "      <td>Delhi</td>\n",
       "      <td>Asia/Calcutta</td>\n",
       "      <td>POLYGON ((77.12486872733885 28.54664454217707,...</td>\n",
       "    </tr>\n",
       "  </tbody>\n",
       "</table>\n",
       "</div>"
      ],
      "text/plain": [
       "  grid_id             location             tz  \\\n",
       "0   1X116               Taipei    Asia/Taipei   \n",
       "1   1Z2W7                Delhi  Asia/Calcutta   \n",
       "2   3S31A  Los Angeles (SoCAB)      Etc/GMT+8   \n",
       "3   6EIL6                Delhi  Asia/Calcutta   \n",
       "4   7334C                Delhi  Asia/Calcutta   \n",
       "\n",
       "                                                 wkt  \n",
       "0  POLYGON ((121.5257644471362 24.97766123020391,...  \n",
       "1  POLYGON ((77.30453178416276 28.54664454217707,...  \n",
       "2  POLYGON ((-117.9338248256995 33.79558357488509...  \n",
       "3  POLYGON ((77.07995296313287 28.54664454217707,...  \n",
       "4  POLYGON ((77.12486872733885 28.54664454217707,...  "
      ]
     },
     "execution_count": 6,
     "metadata": {},
     "output_type": "execute_result"
    }
   ],
   "source": [
    "df = pd.read_csv(os.path.join(paths.dataset_metadata(), \"grid_metadata.csv\"))\n",
    "df.head()"
   ]
  },
  {
   "cell_type": "code",
   "execution_count": 7,
   "metadata": {},
   "outputs": [
    {
     "data": {
      "text/plain": [
       "{'grid_id': TensorSpec(shape=(), dtype=tf.string, name=None),\n",
       " 'location': TensorSpec(shape=(), dtype=tf.string, name=None),\n",
       " 'tz': TensorSpec(shape=(), dtype=tf.string, name=None),\n",
       " 'wkt': TensorSpec(shape=(), dtype=tf.string, name=None)}"
      ]
     },
     "execution_count": 7,
     "metadata": {},
     "output_type": "execute_result"
    }
   ],
   "source": [
    "csv_dataset = Dataset.from_tensor_slices(dict(df))\n",
    "csv_dataset.element_spec"
   ]
  },
  {
   "cell_type": "code",
   "execution_count": 8,
   "metadata": {},
   "outputs": [
    {
     "name": "stdout",
     "output_type": "stream",
     "text": [
      "grid id = b'1X116', location = b'Taipei'\n",
      "grid id = b'1Z2W7', location = b'Delhi'\n",
      "grid id = b'3S31A', location = b'Los Angeles (SoCAB)'\n",
      "grid id = b'6EIL6', location = b'Delhi'\n",
      "grid id = b'7334C', location = b'Delhi'\n"
     ]
    }
   ],
   "source": [
    "for element in csv_dataset.take(5):\n",
    "    # type: dict\n",
    "    grid_id = element[\"grid_id\"]\n",
    "    location = element[\"location\"]\n",
    "\n",
    "    print(f\"grid id = {grid_id}, location = {location}\")"
   ]
  },
  {
   "cell_type": "markdown",
   "metadata": {},
   "source": [
    "# Training"
   ]
  },
  {
   "cell_type": "code",
   "execution_count": 9,
   "metadata": {},
   "outputs": [
    {
     "name": "stdout",
     "output_type": "stream",
     "text": [
      "Model: \"sequential\"\n",
      "_________________________________________________________________\n",
      " Layer (type)                Output Shape              Param #   \n",
      "=================================================================\n",
      " dense (Dense)               (None, 32)                64        \n",
      "                                                                 \n",
      " dense_1 (Dense)             (None, 32)                1056      \n",
      "                                                                 \n",
      " dense_2 (Dense)             (None, 16)                528       \n",
      "                                                                 \n",
      " dense_3 (Dense)             (None, 1)                 17        \n",
      "                                                                 \n",
      "=================================================================\n",
      "Total params: 1,665\n",
      "Trainable params: 1,665\n",
      "Non-trainable params: 0\n",
      "_________________________________________________________________\n"
     ]
    }
   ],
   "source": [
    "model = tf.keras.models.Sequential([\n",
    "    tf.keras.Input(1),\n",
    "    tf.keras.layers.Dense(32, activation=\"relu\"),\n",
    "    tf.keras.layers.Dense(32, activation=\"relu\"),\n",
    "    tf.keras.layers.Dense(16, activation=\"relu\"),\n",
    "    tf.keras.layers.Dense(1),\n",
    "])\n",
    "\n",
    "model.compile(loss=tf.keras.losses.MeanSquaredError())\n",
    "model.summary()"
   ]
  },
  {
   "cell_type": "markdown",
   "metadata": {},
   "source": [
    "When using dataset to train models\n",
    "\n",
    "- Dataset need to be organized as a tuple of (x, y)\n",
    "- x, y must not have shape `()`. In another word, each element in x, y cannot be \n",
    "  a single number"
   ]
  },
  {
   "cell_type": "code",
   "execution_count": 10,
   "metadata": {},
   "outputs": [
    {
     "name": "stdout",
     "output_type": "stream",
     "text": [
      "Epoch 1/75\n",
      "3/3 [==============================] - 1s 4ms/step - loss: 33.7134\n",
      "Epoch 2/75\n",
      "3/3 [==============================] - 0s 3ms/step - loss: 31.0530\n",
      "Epoch 3/75\n",
      "3/3 [==============================] - 0s 5ms/step - loss: 29.5228\n",
      "Epoch 4/75\n",
      "3/3 [==============================] - 0s 4ms/step - loss: 28.2054\n",
      "Epoch 5/75\n",
      "3/3 [==============================] - 0s 4ms/step - loss: 27.0936\n",
      "Epoch 6/75\n",
      "3/3 [==============================] - 0s 3ms/step - loss: 25.9142\n",
      "Epoch 7/75\n",
      "3/3 [==============================] - 0s 3ms/step - loss: 24.8205\n",
      "Epoch 8/75\n",
      "3/3 [==============================] - 0s 3ms/step - loss: 23.8204\n",
      "Epoch 9/75\n",
      "3/3 [==============================] - 0s 5ms/step - loss: 22.7754\n",
      "Epoch 10/75\n",
      "3/3 [==============================] - 0s 6ms/step - loss: 21.7467\n",
      "Epoch 11/75\n",
      "3/3 [==============================] - 0s 4ms/step - loss: 20.7394\n",
      "Epoch 12/75\n",
      "3/3 [==============================] - 0s 4ms/step - loss: 19.7847\n",
      "Epoch 13/75\n",
      "3/3 [==============================] - 0s 3ms/step - loss: 18.8176\n",
      "Epoch 14/75\n",
      "3/3 [==============================] - 0s 4ms/step - loss: 17.8878\n",
      "Epoch 15/75\n",
      "3/3 [==============================] - 0s 3ms/step - loss: 16.9959\n",
      "Epoch 16/75\n",
      "3/3 [==============================] - 0s 4ms/step - loss: 16.1454\n",
      "Epoch 17/75\n",
      "3/3 [==============================] - 0s 5ms/step - loss: 15.3335\n",
      "Epoch 18/75\n",
      "3/3 [==============================] - 0s 6ms/step - loss: 14.5570\n",
      "Epoch 19/75\n",
      "3/3 [==============================] - 0s 5ms/step - loss: 13.7705\n",
      "Epoch 20/75\n",
      "3/3 [==============================] - 0s 4ms/step - loss: 13.0280\n",
      "Epoch 21/75\n",
      "3/3 [==============================] - 0s 4ms/step - loss: 12.3175\n",
      "Epoch 22/75\n",
      "3/3 [==============================] - 0s 3ms/step - loss: 11.5835\n",
      "Epoch 23/75\n",
      "3/3 [==============================] - 0s 4ms/step - loss: 10.8765\n",
      "Epoch 24/75\n",
      "3/3 [==============================] - 0s 4ms/step - loss: 10.2050\n",
      "Epoch 25/75\n",
      "3/3 [==============================] - 0s 3ms/step - loss: 9.5685\n",
      "Epoch 26/75\n",
      "3/3 [==============================] - 0s 7ms/step - loss: 8.9701\n",
      "Epoch 27/75\n",
      "3/3 [==============================] - 0s 3ms/step - loss: 8.3768\n",
      "Epoch 28/75\n",
      "3/3 [==============================] - 0s 3ms/step - loss: 7.8133\n",
      "Epoch 29/75\n",
      "3/3 [==============================] - 0s 4ms/step - loss: 7.2803\n",
      "Epoch 30/75\n",
      "3/3 [==============================] - 0s 3ms/step - loss: 6.7800\n",
      "Epoch 31/75\n",
      "3/3 [==============================] - 0s 4ms/step - loss: 6.3130\n",
      "Epoch 32/75\n",
      "3/3 [==============================] - 0s 4ms/step - loss: 5.8799\n",
      "Epoch 33/75\n",
      "3/3 [==============================] - 0s 5ms/step - loss: 5.4815\n",
      "Epoch 34/75\n",
      "3/3 [==============================] - 0s 3ms/step - loss: 5.1188\n",
      "Epoch 35/75\n",
      "3/3 [==============================] - 0s 4ms/step - loss: 4.7917\n",
      "Epoch 36/75\n",
      "3/3 [==============================] - 0s 6ms/step - loss: 4.4994\n",
      "Epoch 37/75\n",
      "3/3 [==============================] - 0s 4ms/step - loss: 4.2441\n",
      "Epoch 38/75\n",
      "3/3 [==============================] - 0s 4ms/step - loss: 4.0206\n",
      "Epoch 39/75\n",
      "3/3 [==============================] - 0s 6ms/step - loss: 3.8238\n",
      "Epoch 40/75\n",
      "3/3 [==============================] - 0s 4ms/step - loss: 3.6554\n",
      "Epoch 41/75\n",
      "3/3 [==============================] - 0s 3ms/step - loss: 3.5126\n",
      "Epoch 42/75\n",
      "3/3 [==============================] - 0s 4ms/step - loss: 3.3929\n",
      "Epoch 43/75\n",
      "3/3 [==============================] - 0s 5ms/step - loss: 3.2933\n",
      "Epoch 44/75\n",
      "3/3 [==============================] - 0s 6ms/step - loss: 3.2112\n",
      "Epoch 45/75\n",
      "3/3 [==============================] - 0s 3ms/step - loss: 3.1440\n",
      "Epoch 46/75\n",
      "3/3 [==============================] - 0s 4ms/step - loss: 3.0891\n",
      "Epoch 47/75\n",
      "3/3 [==============================] - 0s 4ms/step - loss: 3.0444\n",
      "Epoch 48/75\n",
      "3/3 [==============================] - 0s 4ms/step - loss: 3.0078\n",
      "Epoch 49/75\n",
      "3/3 [==============================] - 0s 3ms/step - loss: 2.9777\n",
      "Epoch 50/75\n",
      "3/3 [==============================] - 0s 5ms/step - loss: 2.9526\n",
      "Epoch 51/75\n",
      "3/3 [==============================] - 0s 4ms/step - loss: 2.9313\n",
      "Epoch 52/75\n",
      "3/3 [==============================] - 0s 4ms/step - loss: 2.9129\n",
      "Epoch 53/75\n",
      "3/3 [==============================] - 0s 3ms/step - loss: 2.8966\n",
      "Epoch 54/75\n",
      "3/3 [==============================] - 0s 5ms/step - loss: 2.8818\n",
      "Epoch 55/75\n",
      "3/3 [==============================] - 0s 5ms/step - loss: 2.8681\n",
      "Epoch 56/75\n",
      "3/3 [==============================] - 0s 5ms/step - loss: 2.8552\n",
      "Epoch 57/75\n",
      "3/3 [==============================] - 0s 5ms/step - loss: 2.8427\n",
      "Epoch 58/75\n",
      "3/3 [==============================] - 0s 4ms/step - loss: 2.8306\n",
      "Epoch 59/75\n",
      "3/3 [==============================] - 0s 4ms/step - loss: 2.8186\n",
      "Epoch 60/75\n",
      "3/3 [==============================] - 0s 4ms/step - loss: 2.8068\n",
      "Epoch 61/75\n",
      "3/3 [==============================] - 0s 5ms/step - loss: 2.7950\n",
      "Epoch 62/75\n",
      "3/3 [==============================] - 0s 3ms/step - loss: 2.7832\n",
      "Epoch 63/75\n",
      "3/3 [==============================] - 0s 3ms/step - loss: 2.7715\n",
      "Epoch 64/75\n",
      "3/3 [==============================] - 0s 4ms/step - loss: 2.7597\n",
      "Epoch 65/75\n",
      "3/3 [==============================] - 0s 4ms/step - loss: 2.7478\n",
      "Epoch 66/75\n",
      "3/3 [==============================] - 0s 4ms/step - loss: 2.7360\n",
      "Epoch 67/75\n",
      "3/3 [==============================] - 0s 3ms/step - loss: 2.7241\n",
      "Epoch 68/75\n",
      "3/3 [==============================] - 0s 5ms/step - loss: 2.7121\n",
      "Epoch 69/75\n",
      "3/3 [==============================] - 0s 4ms/step - loss: 2.7002\n",
      "Epoch 70/75\n",
      "3/3 [==============================] - 0s 4ms/step - loss: 2.6882\n",
      "Epoch 71/75\n",
      "3/3 [==============================] - 0s 3ms/step - loss: 2.6762\n",
      "Epoch 72/75\n",
      "3/3 [==============================] - 0s 6ms/step - loss: 2.6642\n",
      "Epoch 73/75\n",
      "3/3 [==============================] - 0s 5ms/step - loss: 2.6521\n",
      "Epoch 74/75\n",
      "3/3 [==============================] - 0s 4ms/step - loss: 2.6400\n",
      "Epoch 75/75\n",
      "3/3 [==============================] - 0s 4ms/step - loss: 2.6279\n"
     ]
    },
    {
     "data": {
      "text/plain": [
       "<keras.callbacks.History at 0x7f726b31fc10>"
      ]
     },
     "execution_count": 10,
     "metadata": {},
     "output_type": "execute_result"
    }
   ],
   "source": [
    "model.fit(id_value_dataset, epochs=75)"
   ]
  },
  {
   "cell_type": "code",
   "execution_count": 11,
   "metadata": {},
   "outputs": [
    {
     "data": {
      "text/plain": [
       "array([[2.914656 ],\n",
       "       [5.2017374],\n",
       "       [7.4888196]], dtype=float32)"
      ]
     },
     "execution_count": 11,
     "metadata": {},
     "output_type": "execute_result"
    }
   ],
   "source": [
    "model.predict(id_dataset)"
   ]
  },
  {
   "cell_type": "code",
   "execution_count": 12,
   "metadata": {},
   "outputs": [
    {
     "name": "stdout",
     "output_type": "stream",
     "text": [
      "tf.Tensor([1], shape=(1,), dtype=int32)\n",
      "tf.Tensor([4], shape=(1,), dtype=int32)\n",
      "tf.Tensor([9], shape=(1,), dtype=int32)\n"
     ]
    }
   ],
   "source": [
    "for value in value_dataset:\n",
    "    print(value)"
   ]
  },
  {
   "cell_type": "code",
   "execution_count": null,
   "metadata": {},
   "outputs": [],
   "source": []
  }
 ],
 "metadata": {
  "interpreter": {
   "hash": "2e4dc018a57432d7142eb35ddc44af54a9893f5410d097779ec345b750f1131d"
  },
  "kernelspec": {
   "display_name": "Python 3.9.10 ('coms4995')",
   "language": "python",
   "name": "python3"
  },
  "language_info": {
   "codemirror_mode": {
    "name": "ipython",
    "version": 3
   },
   "file_extension": ".py",
   "mimetype": "text/x-python",
   "name": "python",
   "nbconvert_exporter": "python",
   "pygments_lexer": "ipython3",
   "version": "3.10.2"
  },
  "orig_nbformat": 4
 },
 "nbformat": 4,
 "nbformat_minor": 2
}
