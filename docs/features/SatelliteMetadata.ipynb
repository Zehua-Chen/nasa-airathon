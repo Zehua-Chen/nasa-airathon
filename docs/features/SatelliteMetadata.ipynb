{
 "cells": [
  {
   "cell_type": "code",
   "execution_count": 1,
   "metadata": {},
   "outputs": [],
   "source": [
    "from os import path, listdir\n",
    "\n",
    "import pandas\n",
    "import airathon.paths as paths \n"
   ]
  },
  {
   "cell_type": "code",
   "execution_count": 2,
   "metadata": {},
   "outputs": [
    {
     "data": {
      "text/plain": [
       "'/home/zc2616/competition/dataset/metadata/satellite_metadata.csv'"
      ]
     },
     "execution_count": 2,
     "metadata": {},
     "output_type": "execute_result"
    }
   ],
   "source": [
    "filepath = path.join(paths.dataset_metadata(), \"satellite_metadata.csv\")\n",
    "filepath\n"
   ]
  },
  {
   "cell_type": "markdown",
   "metadata": {},
   "source": [
    "# Overview\n"
   ]
  },
  {
   "cell_type": "code",
   "execution_count": 3,
   "metadata": {},
   "outputs": [
    {
     "data": {
      "text/html": [
       "<div>\n",
       "<style scoped>\n",
       "    .dataframe tbody tr th:only-of-type {\n",
       "        vertical-align: middle;\n",
       "    }\n",
       "\n",
       "    .dataframe tbody tr th {\n",
       "        vertical-align: top;\n",
       "    }\n",
       "\n",
       "    .dataframe thead th {\n",
       "        text-align: right;\n",
       "    }\n",
       "</style>\n",
       "<table border=\"1\" class=\"dataframe\">\n",
       "  <thead>\n",
       "    <tr style=\"text-align: right;\">\n",
       "      <th></th>\n",
       "      <th>granule_id</th>\n",
       "      <th>time_start</th>\n",
       "      <th>time_end</th>\n",
       "      <th>product</th>\n",
       "      <th>location</th>\n",
       "      <th>split</th>\n",
       "      <th>us_url</th>\n",
       "      <th>eu_url</th>\n",
       "      <th>as_url</th>\n",
       "      <th>cksum</th>\n",
       "      <th>granule_size</th>\n",
       "    </tr>\n",
       "  </thead>\n",
       "  <tbody>\n",
       "    <tr>\n",
       "      <th>0</th>\n",
       "      <td>20180201T191000_maiac_la_0.hdf</td>\n",
       "      <td>2018-02-01T17:25:00.000Z</td>\n",
       "      <td>2018-02-01 19:10:00+00:00</td>\n",
       "      <td>maiac</td>\n",
       "      <td>la</td>\n",
       "      <td>train</td>\n",
       "      <td>s3://drivendata-competition-airathon-public-us...</td>\n",
       "      <td>s3://drivendata-competition-airathon-public-eu...</td>\n",
       "      <td>s3://drivendata-competition-airathon-public-as...</td>\n",
       "      <td>911405771</td>\n",
       "      <td>10446736</td>\n",
       "    </tr>\n",
       "    <tr>\n",
       "      <th>1</th>\n",
       "      <td>20180202T195000_maiac_la_0.hdf</td>\n",
       "      <td>2018-02-02T18:05:00.000Z</td>\n",
       "      <td>2018-02-02 19:50:00+00:00</td>\n",
       "      <td>maiac</td>\n",
       "      <td>la</td>\n",
       "      <td>train</td>\n",
       "      <td>s3://drivendata-competition-airathon-public-us...</td>\n",
       "      <td>s3://drivendata-competition-airathon-public-eu...</td>\n",
       "      <td>s3://drivendata-competition-airathon-public-as...</td>\n",
       "      <td>2244451908</td>\n",
       "      <td>11090180</td>\n",
       "    </tr>\n",
       "    <tr>\n",
       "      <th>2</th>\n",
       "      <td>20180203T203000_maiac_la_0.hdf</td>\n",
       "      <td>2018-02-03T17:10:00.000Z</td>\n",
       "      <td>2018-02-03 20:30:00+00:00</td>\n",
       "      <td>maiac</td>\n",
       "      <td>la</td>\n",
       "      <td>train</td>\n",
       "      <td>s3://drivendata-competition-airathon-public-us...</td>\n",
       "      <td>s3://drivendata-competition-airathon-public-eu...</td>\n",
       "      <td>s3://drivendata-competition-airathon-public-as...</td>\n",
       "      <td>3799527997</td>\n",
       "      <td>12468482</td>\n",
       "    </tr>\n",
       "    <tr>\n",
       "      <th>3</th>\n",
       "      <td>20180204T194000_maiac_la_0.hdf</td>\n",
       "      <td>2018-02-04T17:55:00.000Z</td>\n",
       "      <td>2018-02-04 19:40:00+00:00</td>\n",
       "      <td>maiac</td>\n",
       "      <td>la</td>\n",
       "      <td>train</td>\n",
       "      <td>s3://drivendata-competition-airathon-public-us...</td>\n",
       "      <td>s3://drivendata-competition-airathon-public-eu...</td>\n",
       "      <td>s3://drivendata-competition-airathon-public-as...</td>\n",
       "      <td>4105997844</td>\n",
       "      <td>13064424</td>\n",
       "    </tr>\n",
       "    <tr>\n",
       "      <th>4</th>\n",
       "      <td>20180205T202000_maiac_la_0.hdf</td>\n",
       "      <td>2018-02-05T17:00:00.000Z</td>\n",
       "      <td>2018-02-05 20:20:00+00:00</td>\n",
       "      <td>maiac</td>\n",
       "      <td>la</td>\n",
       "      <td>train</td>\n",
       "      <td>s3://drivendata-competition-airathon-public-us...</td>\n",
       "      <td>s3://drivendata-competition-airathon-public-eu...</td>\n",
       "      <td>s3://drivendata-competition-airathon-public-as...</td>\n",
       "      <td>1805072340</td>\n",
       "      <td>12549313</td>\n",
       "    </tr>\n",
       "  </tbody>\n",
       "</table>\n",
       "</div>"
      ],
      "text/plain": [
       "                       granule_id                time_start  \\\n",
       "0  20180201T191000_maiac_la_0.hdf  2018-02-01T17:25:00.000Z   \n",
       "1  20180202T195000_maiac_la_0.hdf  2018-02-02T18:05:00.000Z   \n",
       "2  20180203T203000_maiac_la_0.hdf  2018-02-03T17:10:00.000Z   \n",
       "3  20180204T194000_maiac_la_0.hdf  2018-02-04T17:55:00.000Z   \n",
       "4  20180205T202000_maiac_la_0.hdf  2018-02-05T17:00:00.000Z   \n",
       "\n",
       "                    time_end product location  split  \\\n",
       "0  2018-02-01 19:10:00+00:00   maiac       la  train   \n",
       "1  2018-02-02 19:50:00+00:00   maiac       la  train   \n",
       "2  2018-02-03 20:30:00+00:00   maiac       la  train   \n",
       "3  2018-02-04 19:40:00+00:00   maiac       la  train   \n",
       "4  2018-02-05 20:20:00+00:00   maiac       la  train   \n",
       "\n",
       "                                              us_url  \\\n",
       "0  s3://drivendata-competition-airathon-public-us...   \n",
       "1  s3://drivendata-competition-airathon-public-us...   \n",
       "2  s3://drivendata-competition-airathon-public-us...   \n",
       "3  s3://drivendata-competition-airathon-public-us...   \n",
       "4  s3://drivendata-competition-airathon-public-us...   \n",
       "\n",
       "                                              eu_url  \\\n",
       "0  s3://drivendata-competition-airathon-public-eu...   \n",
       "1  s3://drivendata-competition-airathon-public-eu...   \n",
       "2  s3://drivendata-competition-airathon-public-eu...   \n",
       "3  s3://drivendata-competition-airathon-public-eu...   \n",
       "4  s3://drivendata-competition-airathon-public-eu...   \n",
       "\n",
       "                                              as_url       cksum  granule_size  \n",
       "0  s3://drivendata-competition-airathon-public-as...   911405771      10446736  \n",
       "1  s3://drivendata-competition-airathon-public-as...  2244451908      11090180  \n",
       "2  s3://drivendata-competition-airathon-public-as...  3799527997      12468482  \n",
       "3  s3://drivendata-competition-airathon-public-as...  4105997844      13064424  \n",
       "4  s3://drivendata-competition-airathon-public-as...  1805072340      12549313  "
      ]
     },
     "execution_count": 3,
     "metadata": {},
     "output_type": "execute_result"
    }
   ],
   "source": [
    "df = pandas.read_csv(filepath)\n",
    "df.head()"
   ]
  },
  {
   "cell_type": "markdown",
   "metadata": {},
   "source": [
    "# Features\n"
   ]
  },
  {
   "cell_type": "markdown",
   "metadata": {},
   "source": [
    "## `location`\n",
    "\n",
    "Note that `location` follows a different naming convention from \n",
    "[Grid Metadata](GridMetadata.ipynb)"
   ]
  },
  {
   "cell_type": "markdown",
   "metadata": {},
   "source": [
    "## `product`\n",
    "\n",
    "- [`maiac`](https://sites.bu.edu/haqast-highrestt/research/about-maiac/):\n",
    "  Multiangle Implementation of Atmospheric Correction\n",
    "- [`misr`](https://terra.nasa.gov/about/terra-instruments/misr):\n",
    "  Multi-angle Imaging SpectroRadiometer\n",
    "\n",
    "### `maiac`\n",
    "\n",
    "> The “Multiangle Implementation of Atmospheric Correction (MAIAC)” algorithm\n",
    "> produces a 1-km global AOD from daily MODIS TERRA and AQUA satellites with\n",
    "> 10:30am and 1:30pm equatorial crossing time. MAIAC is a new advanced NASA\n",
    "> algorithm which uses the time series analysis and spatial processing to\n",
    "> separate atmospheric and surface contributions, and improve quality of cloud\n",
    "> detection and aerosol and surface characterization. MAIAC MODIS Collection 6\n",
    "> suite of products (MCD19) is expected to be released in Spring 2018. A journal\n",
    "> publication on the MAIAC C6 algorithm has been submitted (A. Lyapustin, Y.\n",
    "> Wang, S. Korkin, D. Huang, “MODIS Collection 6 MAIAC Algorithm,” ACP).\n",
    "\n",
    "### `misr`\n",
    "\n",
    "> Most satellite instruments look only straight down, or toward the edge of the\n",
    "> planet. To fully understand Earth’s climate, and to determine how it may be\n",
    "> changing, we need to know the amount of sunlight that is scattered in different\n",
    "> directions under natural conditions. MISR is a new type of instrument designed\n",
    "> to address this need — it views the Earth with cameras pointed at nine\n",
    "> different angles. One camera points toward nadir, and the others provide\n",
    "> forward and aftward view angles, at the Earth’s surface, of 26.1°, 45.6°, 60.0°,\n",
    "> and 70.5°. As the instrument flies overhead, each region of the Earth’s surface\n",
    "> is successively imaged by all nine cameras in each of four wavelengths (blue, \n",
    "> green, red, and near-infrared).\n",
    ">\n",
    "> In addition to improving our understanding of the fate of sunlight in the\n",
    "> Earth’s environment, MISR data can distinguish different types of clouds,\n",
    "> aerosol particles, and surfaces. Specifically, MISR will monitor the monthly,\n",
    "> seasonal, and long-term trends in:\n",
    ">\n",
    "> - the amount and type of atmospheric aerosol particles, including those formed\n",
    ">   by natural sources and by human activities;\n",
    "> - the amount, types, and heights of clouds; and\n",
    "> - the distribution of land surface cover, including vegetation canopy structure\n"
   ]
  },
  {
   "cell_type": "code",
   "execution_count": 4,
   "metadata": {},
   "outputs": [
    {
     "data": {
      "text/plain": [
       "{'maiac', 'misr'}"
      ]
     },
     "execution_count": 4,
     "metadata": {},
     "output_type": "execute_result"
    }
   ],
   "source": [
    "products = df.loc[:, \"product\"]\n",
    "set(products)"
   ]
  },
  {
   "cell_type": "markdown",
   "metadata": {},
   "source": [
    "## `split`\n",
    "\n",
    "- `train` is used for `train_labels.csv`, i.e. **what we use to train our model**\n",
    "- `test` is intended to be used by `submission_format.csv`, i.e. **what we upload\n",
    "  to the leaderboard**"
   ]
  },
  {
   "cell_type": "code",
   "execution_count": 5,
   "metadata": {},
   "outputs": [
    {
     "data": {
      "text/plain": [
       "{'test', 'train'}"
      ]
     },
     "execution_count": 5,
     "metadata": {},
     "output_type": "execute_result"
    }
   ],
   "source": [
    "set(df.loc[:, \"split\"])"
   ]
  },
  {
   "cell_type": "code",
   "execution_count": 6,
   "metadata": {},
   "outputs": [
    {
     "name": "stdout",
     "output_type": "stream",
     "text": [
      "# of train = 5048\n",
      "# of test = 2673\n"
     ]
    }
   ],
   "source": [
    "train = df.loc[:, \"split\"] == \"train\"\n",
    "test = df.loc[:, \"split\"] == \"test\"\n",
    "\n",
    "print(f\"# of train = {train.sum()}\")\n",
    "print(f\"# of test = {test.sum()}\")"
   ]
  },
  {
   "cell_type": "code",
   "execution_count": 7,
   "metadata": {},
   "outputs": [
    {
     "name": "stdout",
     "output_type": "stream",
     "text": [
      "# of train files = 4260\n",
      "# of test files = 2444\n"
     ]
    }
   ],
   "source": [
    "def count_hdf(split: str) -> int:\n",
    "    root = path.join(paths.dataset(), split, \"maiac\")\n",
    "    years = listdir(root) \n",
    "\n",
    "    total = 0\n",
    "\n",
    "    for year in years:\n",
    "        year_dir = path.join(root, year)\n",
    "        files = listdir(year_dir)\n",
    "        files = filter(lambda file: \".hdf\" in file, files)\n",
    "        files = list(files)\n",
    "\n",
    "        total += len(files)\n",
    "\n",
    "    return total\n",
    "\n",
    "train_hdf_count = count_hdf(\"train\")\n",
    "test_hdf_count = count_hdf(\"test\")\n",
    "\n",
    "print(f\"# of train files = {train_hdf_count}\")\n",
    "print(f\"# of test files = {test_hdf_count}\")\n"
   ]
  },
  {
   "cell_type": "code",
   "execution_count": null,
   "metadata": {},
   "outputs": [],
   "source": []
  }
 ],
 "metadata": {
  "interpreter": {
   "hash": "2e4dc018a57432d7142eb35ddc44af54a9893f5410d097779ec345b750f1131d"
  },
  "kernelspec": {
   "display_name": "Python 3.9.10 ('coms4995')",
   "language": "python",
   "name": "python3"
  },
  "language_info": {
   "codemirror_mode": {
    "name": "ipython",
    "version": 3
   },
   "file_extension": ".py",
   "mimetype": "text/x-python",
   "name": "python",
   "nbconvert_exporter": "python",
   "pygments_lexer": "ipython3",
   "version": "3.10.2"
  },
  "orig_nbformat": 4
 },
 "nbformat": 4,
 "nbformat_minor": 2
}
