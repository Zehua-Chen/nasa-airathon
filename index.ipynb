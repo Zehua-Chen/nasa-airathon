{
 "cells": [
  {
   "cell_type": "markdown",
   "metadata": {},
   "source": [
    "# COMS 4995 Competition"
   ]
  },
  {
   "cell_type": "markdown",
   "metadata": {},
   "source": [
    "## Content\n",
    "\n",
    "- [`dataset`](dataset/): where training and testing data are stored\n",
    "- [`docs`](docs/): example code on topics of Tensorflow and feature exploration\n",
    "- [`airathon`](airathon/): utility packages and CLI tools\n",
    "  - `airathon.model.tfrecord`: tf record creation\n",
    "  - `airathon.metrics`: R2 implementation\n",
    "  - `airathon.model`: synced with [`model.ipynb`](model.ipynb) and \n",
    "    [`model.modis.ipynb`](model.modis.ipynb)\n",
    "  - `airathon.paths`: helper function for finding files in repo\n",
    "- [`saves`](saves/): model training checkpoint\n",
    "- [`Leaderboard`](Leaderboard.png): proof of getting on leaderboard on Feb 17\n",
    "- [`test`](tests/): unit testing\n",
    "\n",
    "### Notebook\n",
    "\n",
    "- [`model.ipynb`](model.ipynb): where the model is developed\n",
    "- [`model.modis.ipynb`](model.modis.ipynb): modis loading code\n",
    "- [`tfrecord.ipynb`](tfrecord.ipynb): TFRecord creationg"
   ]
  },
  {
   "cell_type": "markdown",
   "metadata": {},
   "source": [
    "## Get Started\n",
    "\n",
    "### Setting Up Virtual Machine\n",
    "\n",
    "1. Create a [deep learning VM](https://cloud.google.com/deep-learning-vm)\n",
    "3. If GPU cannot be detected, run NVIDIA driver install script provided by\n",
    "   Google\n",
    "   ```\n",
    "   $ sudo /opt/deeplearning/install-driver.sh\n",
    "   ```\n",
    "\n",
    "### Download Prebuilt TF Records\n",
    "\n",
    "```\n",
    "$ gsutil cp gs://zc2616_coms4995_22_competition/train-maiac-2000.tfrecord dataset/train/maiac/maiac-2000.tfrecord\n",
    "$ gsutil cp gs://zc2616_coms4995_22_competition/test-maiac.tfrecord dataset/test/maiac/maiac.tfrecord\n",
    "```\n",
    "\n",
    "### Installing Python and Dependencies\n",
    "\n",
    "1. Create a conda environment from [`requirements.txt`](requirements.txt)\n",
    "2. Run `pip install -e .` at repo root to install the repo as an editable python\n",
    "   package\n",
    "\n",
    "### Jupyter Notebook\n",
    "\n",
    "Open [model.ipynb](model.ipynb) to train the model"
   ]
  },
  {
   "cell_type": "markdown",
   "metadata": {},
   "source": [
    "## Development\n",
    "\n",
    "#### Creating TF Records\n",
    "\n",
    "First download raw data from Amazon S3\n",
    "\n",
    "```\n",
    "$ aws s3 cp s3://drivendata-competition-airathon-public-us/pm25/test/maiac dataset/test/maiac/ --no-sign-request --recursive\n",
    "$ aws s3 cp s3://drivendata-competition-airathon-public-us/pm25/train/maiac dataset/train/maiac/ --no-sign-request --recursive\n",
    "```\n",
    "\n",
    "Then create tf records using \n",
    "\n",
    "```\n",
    "$ airathon tfrecord dataset/metadata/train_labels.csv train\n",
    "$ airathon tfrecord dataset/metadata/submission_format.csv test\n",
    "```\n",
    "\n",
    "Created TF records will be placed at\n",
    "\n",
    "1. `dataset/train/maiac/maiac.tfrecord`\n",
    "2. `dataset/test/maiac/maiac.tfrecord`\n",
    "\n",
    "### Developing Model\n",
    "\n",
    "Model and preprocessing should be developed in [model.ipynb](model.ipynb)\n",
    "\n",
    "### Syncing With `airathon` package\n",
    "\n",
    "- `nbdev_build_lib`\n",
    "\n",
    "### Source Control\n",
    "\n",
    "Before pushing notebook, make sure to run `nbdev_clean_nbs` to clean notebooks"
   ]
  },
  {
   "cell_type": "markdown",
   "metadata": {},
   "source": []
  }
 ],
 "metadata": {
  "kernelspec": {
   "display_name": "Python 3.9.10 ('coms4995')",
   "language": "python",
   "name": "python3"
  }
 },
 "nbformat": 4,
 "nbformat_minor": 2
}
