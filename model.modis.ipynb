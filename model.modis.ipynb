{
 "cells": [
  {
   "cell_type": "code",
   "execution_count": null,
   "metadata": {},
   "outputs": [],
   "source": [
    "# default_exp model.modis"
   ]
  },
  {
   "cell_type": "code",
   "execution_count": null,
   "metadata": {},
   "outputs": [],
   "source": [
    "# export \n",
    "from os import path \n",
    "import subprocess\n",
    "import airathon.paths as paths \n",
    "from osgeo import gdal"
   ]
  },
  {
   "cell_type": "code",
   "execution_count": null,
   "metadata": {},
   "outputs": [],
   "source": [
    "# export\n",
    "def load_modis(year: str, granule_id: str, split: str) -> gdal.Dataset:\n",
    "    \"\"\"Load a MODIS, aka. MAIAC file\n",
    "\n",
    "    Args:\n",
    "        granule_id (str): _description_\n",
    "\n",
    "    Returns:\n",
    "        gdal.Dataset: _description_\n",
    "    \"\"\"\n",
    "    # s3 = boto3.client(\"s3\")\n",
    "    # s3.download_file()\n",
    "    filepath = path.join(paths.dataset(), split, \"maiac\", year, granule_id)\n",
    "\n",
    "    if not path.exists(filepath):\n",
    "        raise FileNotFoundError(filepath)\n",
    "\n",
    "    modis = gdal.Open(filepath)\n",
    "\n",
    "    return modis"
   ]
  },
  {
   "cell_type": "code",
   "execution_count": null,
   "metadata": {},
   "outputs": [
    {
     "data": {
      "text/plain": [
       "<osgeo.gdal.Dataset; proxy of <Swig Object of type 'GDALDatasetShadow *' at 0x7f0d01447c00> >"
      ]
     },
     "execution_count": null,
     "metadata": {},
     "output_type": "execute_result"
    }
   ],
   "source": [
    "load_modis(\"2018\", \"20181009T032000_maiac_tpe_1.hdf\", \"train\")"
   ]
  },
  {
   "cell_type": "code",
   "execution_count": null,
   "metadata": {},
   "outputs": [
    {
     "ename": "FileNotFoundError",
     "evalue": "/home/zc2616/competition/dataset/train/maiac/xxx/20181009T032000_maiac_tpe_1.hdf",
     "output_type": "error",
     "traceback": [
      "\u001b[0;31m---------------------------------------------------------------------------\u001b[0m",
      "\u001b[0;31mFileNotFoundError\u001b[0m                         Traceback (most recent call last)",
      "\u001b[1;32m/home/zc2616/competition/model.modis.ipynb Cell 5'\u001b[0m in \u001b[0;36m<cell line: 1>\u001b[0;34m()\u001b[0m\n\u001b[0;32m----> <a href='vscode-notebook-cell://ssh-remote%2Bcoms4995deep/home/zc2616/competition/model.modis.ipynb#ch0000004vscode-remote?line=0'>1</a>\u001b[0m load_modis(\u001b[39m\"\u001b[39;49m\u001b[39mxxx\u001b[39;49m\u001b[39m\"\u001b[39;49m, \u001b[39m\"\u001b[39;49m\u001b[39m20181009T032000_maiac_tpe_1.hdf\u001b[39;49m\u001b[39m\"\u001b[39;49m, \u001b[39m\"\u001b[39;49m\u001b[39mtrain\u001b[39;49m\u001b[39m\"\u001b[39;49m)\n",
      "\u001b[1;32m/home/zc2616/competition/model.modis.ipynb Cell 3'\u001b[0m in \u001b[0;36mload_modis\u001b[0;34m(year, granule_id, split)\u001b[0m\n\u001b[1;32m     <a href='vscode-notebook-cell://ssh-remote%2Bcoms4995deep/home/zc2616/competition/model.modis.ipynb#ch0000002vscode-remote?line=12'>13</a>\u001b[0m filepath \u001b[39m=\u001b[39m path\u001b[39m.\u001b[39mjoin(paths\u001b[39m.\u001b[39mdataset(), split, \u001b[39m\"\u001b[39m\u001b[39mmaiac\u001b[39m\u001b[39m\"\u001b[39m, year, granule_id)\n\u001b[1;32m     <a href='vscode-notebook-cell://ssh-remote%2Bcoms4995deep/home/zc2616/competition/model.modis.ipynb#ch0000002vscode-remote?line=14'>15</a>\u001b[0m \u001b[39mif\u001b[39;00m \u001b[39mnot\u001b[39;00m path\u001b[39m.\u001b[39mexists(filepath):\n\u001b[0;32m---> <a href='vscode-notebook-cell://ssh-remote%2Bcoms4995deep/home/zc2616/competition/model.modis.ipynb#ch0000002vscode-remote?line=15'>16</a>\u001b[0m     \u001b[39mraise\u001b[39;00m \u001b[39mFileNotFoundError\u001b[39;00m(filepath)\n\u001b[1;32m     <a href='vscode-notebook-cell://ssh-remote%2Bcoms4995deep/home/zc2616/competition/model.modis.ipynb#ch0000002vscode-remote?line=17'>18</a>\u001b[0m modis \u001b[39m=\u001b[39m gdal\u001b[39m.\u001b[39mOpen(filepath)\n\u001b[1;32m     <a href='vscode-notebook-cell://ssh-remote%2Bcoms4995deep/home/zc2616/competition/model.modis.ipynb#ch0000002vscode-remote?line=19'>20</a>\u001b[0m \u001b[39mreturn\u001b[39;00m modis\n",
      "\u001b[0;31mFileNotFoundError\u001b[0m: /home/zc2616/competition/dataset/train/maiac/xxx/20181009T032000_maiac_tpe_1.hdf"
     ]
    }
   ],
   "source": [
    "load_modis(\"xxx\", \"20181009T032000_maiac_tpe_1.hdf\", \"train\")"
   ]
  },
  {
   "cell_type": "code",
   "execution_count": null,
   "metadata": {},
   "outputs": [],
   "source": []
  }
 ],
 "metadata": {
  "kernelspec": {
   "display_name": "Python 3.10.2 ('competition')",
   "language": "python",
   "name": "python3"
  }
 },
 "nbformat": 4,
 "nbformat_minor": 2
}
